{
 "cells": [
  {
   "cell_type": "markdown",
   "metadata": {},
   "source": [
    "## PREDICT TARGET DATA"
   ]
  },
  {
   "cell_type": "markdown",
   "metadata": {},
   "source": [
    "Equipe :\n",
    "    * Jéssica Villar - 1613176\n",
    "    * Fernando Tancini - 1711799\n",
    "    * Andrea Mourelo - 1820000"
   ]
  },
  {
   "cell_type": "markdown",
   "metadata": {},
   "source": [
    "# Considerações iniciais"
   ]
  },
  {
   "cell_type": "markdown",
   "metadata": {},
   "source": [
    "A ideia deste trabalho é criar um modelo de regressao linear que permita, através dos dados do CSV 'dataset1.csv', prever a variável 'target'.\n",
    "\n",
    "Durante este trabalho, fizemos o seguinte:\n",
    "* Importamos os dados para análise e fizemos uma breve análise\n",
    "* Criamos vários modelos de regressão linear com features diferentes"
   ]
  },
  {
   "cell_type": "markdown",
   "metadata": {},
   "source": [
    "# Set Up"
   ]
  },
  {
   "cell_type": "code",
   "execution_count": 1,
   "metadata": {},
   "outputs": [],
   "source": [
    "import numpy as np\n",
    "import pandas as pd\n",
    "\n",
    "# plotting libraries\n",
    "import matplotlib.pyplot as plt\n",
    "import seaborn as sns\n",
    "\n",
    "# machine learning libraries and functions\n",
    "import sklearn as sk\n",
    "from sklearn.model_selection import train_test_split\n",
    "from sklearn.linear_model import LinearRegression\n",
    "from sklearn.metrics import mean_squared_error, r2_score, mean_absolute_error"
   ]
  },
  {
   "cell_type": "code",
   "execution_count": 2,
   "metadata": {},
   "outputs": [],
   "source": [
    "# Set a seed value: \n",
    "seed_value= 12321  \n",
    "# 1. Set PYTHONHASHSEED environment variable at a fixed value: \n",
    "import os\n",
    "os.environ['PYTHONHASHSEED']=str(seed_value) \n",
    "# 2. Set python built-in pseudo-random generator at a fixed value:\n",
    "import random\n",
    "random.seed(seed_value) \n",
    "# 3. Set numpy pseudo-random generator at a fixed value:\n",
    "np.random.seed(seed_value) "
   ]
  },
  {
   "cell_type": "markdown",
   "metadata": {},
   "source": [
    "# Importando os dados"
   ]
  },
  {
   "cell_type": "code",
   "execution_count": 3,
   "metadata": {},
   "outputs": [
    {
     "data": {
      "text/html": [
       "<div>\n",
       "<style scoped>\n",
       "    .dataframe tbody tr th:only-of-type {\n",
       "        vertical-align: middle;\n",
       "    }\n",
       "\n",
       "    .dataframe tbody tr th {\n",
       "        vertical-align: top;\n",
       "    }\n",
       "\n",
       "    .dataframe thead th {\n",
       "        text-align: right;\n",
       "    }\n",
       "</style>\n",
       "<table border=\"1\" class=\"dataframe\">\n",
       "  <thead>\n",
       "    <tr style=\"text-align: right;\">\n",
       "      <th></th>\n",
       "      <th>V1</th>\n",
       "      <th>V2</th>\n",
       "      <th>V3</th>\n",
       "      <th>V4</th>\n",
       "      <th>V5</th>\n",
       "      <th>V6</th>\n",
       "      <th>V7</th>\n",
       "      <th>V8</th>\n",
       "      <th>V9</th>\n",
       "      <th>V10</th>\n",
       "      <th>V11</th>\n",
       "      <th>V12</th>\n",
       "      <th>V13</th>\n",
       "      <th>target</th>\n",
       "    </tr>\n",
       "  </thead>\n",
       "  <tbody>\n",
       "    <tr>\n",
       "      <th>0</th>\n",
       "      <td>18.0</td>\n",
       "      <td>0</td>\n",
       "      <td>6.575</td>\n",
       "      <td>4.0900</td>\n",
       "      <td>296</td>\n",
       "      <td>396.90</td>\n",
       "      <td>0.00632</td>\n",
       "      <td>2.31</td>\n",
       "      <td>0.538</td>\n",
       "      <td>65.2</td>\n",
       "      <td>1</td>\n",
       "      <td>15.3</td>\n",
       "      <td>4.98</td>\n",
       "      <td>24.0</td>\n",
       "    </tr>\n",
       "    <tr>\n",
       "      <th>1</th>\n",
       "      <td>0.0</td>\n",
       "      <td>0</td>\n",
       "      <td>6.421</td>\n",
       "      <td>4.9671</td>\n",
       "      <td>242</td>\n",
       "      <td>396.90</td>\n",
       "      <td>0.02731</td>\n",
       "      <td>7.07</td>\n",
       "      <td>0.469</td>\n",
       "      <td>78.9</td>\n",
       "      <td>2</td>\n",
       "      <td>17.8</td>\n",
       "      <td>9.14</td>\n",
       "      <td>21.6</td>\n",
       "    </tr>\n",
       "    <tr>\n",
       "      <th>2</th>\n",
       "      <td>0.0</td>\n",
       "      <td>0</td>\n",
       "      <td>7.185</td>\n",
       "      <td>4.9671</td>\n",
       "      <td>242</td>\n",
       "      <td>392.83</td>\n",
       "      <td>0.02729</td>\n",
       "      <td>7.07</td>\n",
       "      <td>0.469</td>\n",
       "      <td>61.1</td>\n",
       "      <td>2</td>\n",
       "      <td>17.8</td>\n",
       "      <td>4.03</td>\n",
       "      <td>34.7</td>\n",
       "    </tr>\n",
       "    <tr>\n",
       "      <th>3</th>\n",
       "      <td>0.0</td>\n",
       "      <td>0</td>\n",
       "      <td>6.998</td>\n",
       "      <td>6.0622</td>\n",
       "      <td>222</td>\n",
       "      <td>394.63</td>\n",
       "      <td>0.03237</td>\n",
       "      <td>2.18</td>\n",
       "      <td>0.458</td>\n",
       "      <td>45.8</td>\n",
       "      <td>3</td>\n",
       "      <td>18.7</td>\n",
       "      <td>2.94</td>\n",
       "      <td>33.4</td>\n",
       "    </tr>\n",
       "    <tr>\n",
       "      <th>4</th>\n",
       "      <td>0.0</td>\n",
       "      <td>0</td>\n",
       "      <td>7.147</td>\n",
       "      <td>6.0622</td>\n",
       "      <td>222</td>\n",
       "      <td>396.90</td>\n",
       "      <td>0.06905</td>\n",
       "      <td>2.18</td>\n",
       "      <td>0.458</td>\n",
       "      <td>54.2</td>\n",
       "      <td>3</td>\n",
       "      <td>18.7</td>\n",
       "      <td>5.33</td>\n",
       "      <td>36.2</td>\n",
       "    </tr>\n",
       "  </tbody>\n",
       "</table>\n",
       "</div>"
      ],
      "text/plain": [
       "     V1  V2     V3      V4   V5      V6       V7    V8     V9   V10  V11  \\\n",
       "0  18.0   0  6.575  4.0900  296  396.90  0.00632  2.31  0.538  65.2    1   \n",
       "1   0.0   0  6.421  4.9671  242  396.90  0.02731  7.07  0.469  78.9    2   \n",
       "2   0.0   0  7.185  4.9671  242  392.83  0.02729  7.07  0.469  61.1    2   \n",
       "3   0.0   0  6.998  6.0622  222  394.63  0.03237  2.18  0.458  45.8    3   \n",
       "4   0.0   0  7.147  6.0622  222  396.90  0.06905  2.18  0.458  54.2    3   \n",
       "\n",
       "    V12   V13  target  \n",
       "0  15.3  4.98    24.0  \n",
       "1  17.8  9.14    21.6  \n",
       "2  17.8  4.03    34.7  \n",
       "3  18.7  2.94    33.4  \n",
       "4  18.7  5.33    36.2  "
      ]
     },
     "execution_count": 3,
     "metadata": {},
     "output_type": "execute_result"
    }
   ],
   "source": [
    "filename = 'dataset1.csv'\n",
    "data = pd.read_csv(filename)\n",
    "data.head()"
   ]
  },
  {
   "cell_type": "code",
   "execution_count": 4,
   "metadata": {},
   "outputs": [
    {
     "name": "stdout",
     "output_type": "stream",
     "text": [
      "(506, 14)\n",
      "<class 'pandas.core.frame.DataFrame'>\n",
      "RangeIndex: 506 entries, 0 to 505\n",
      "Data columns (total 14 columns):\n",
      "V1        506 non-null float64\n",
      "V2        506 non-null int64\n",
      "V3        506 non-null float64\n",
      "V4        506 non-null float64\n",
      "V5        506 non-null int64\n",
      "V6        506 non-null float64\n",
      "V7        506 non-null float64\n",
      "V8        506 non-null float64\n",
      "V9        506 non-null float64\n",
      "V10       506 non-null float64\n",
      "V11       506 non-null int64\n",
      "V12       506 non-null float64\n",
      "V13       506 non-null float64\n",
      "target    506 non-null float64\n",
      "dtypes: float64(11), int64(3)\n",
      "memory usage: 55.4 KB\n",
      "None\n"
     ]
    }
   ],
   "source": [
    "# Dados rápidos sobre o file\n",
    "print(data.shape)\n",
    "print(data.info())\n",
    "# 506 linhas com todos os dados preenchidos"
   ]
  },
  {
   "cell_type": "code",
   "execution_count": null,
   "metadata": {},
   "outputs": [
    {
     "data": {
      "text/html": [
       "<div>\n",
       "<style scoped>\n",
       "    .dataframe tbody tr th:only-of-type {\n",
       "        vertical-align: middle;\n",
       "    }\n",
       "\n",
       "    .dataframe tbody tr th {\n",
       "        vertical-align: top;\n",
       "    }\n",
       "\n",
       "    .dataframe thead th {\n",
       "        text-align: right;\n",
       "    }\n",
       "</style>\n",
       "<table border=\"1\" class=\"dataframe\">\n",
       "  <thead>\n",
       "    <tr style=\"text-align: right;\">\n",
       "      <th></th>\n",
       "      <th>V1</th>\n",
       "      <th>V2</th>\n",
       "      <th>V3</th>\n",
       "      <th>V4</th>\n",
       "      <th>V5</th>\n",
       "      <th>V6</th>\n",
       "      <th>V7</th>\n",
       "      <th>V8</th>\n",
       "      <th>V9</th>\n",
       "      <th>V10</th>\n",
       "      <th>V11</th>\n",
       "      <th>V12</th>\n",
       "      <th>V13</th>\n",
       "      <th>target</th>\n",
       "    </tr>\n",
       "  </thead>\n",
       "  <tbody>\n",
       "    <tr>\n",
       "      <th>count</th>\n",
       "      <td>506.000000</td>\n",
       "      <td>506.000000</td>\n",
       "      <td>506.000000</td>\n",
       "      <td>506.000000</td>\n",
       "      <td>506.000000</td>\n",
       "      <td>506.000000</td>\n",
       "      <td>506.000000</td>\n",
       "      <td>506.000000</td>\n",
       "      <td>506.000000</td>\n",
       "      <td>506.000000</td>\n",
       "      <td>506.000000</td>\n",
       "      <td>506.000000</td>\n",
       "      <td>506.000000</td>\n",
       "      <td>506.000000</td>\n",
       "    </tr>\n",
       "    <tr>\n",
       "      <th>mean</th>\n",
       "      <td>11.363636</td>\n",
       "      <td>0.069170</td>\n",
       "      <td>6.284634</td>\n",
       "      <td>3.795043</td>\n",
       "      <td>408.237154</td>\n",
       "      <td>356.674032</td>\n",
       "      <td>3.613524</td>\n",
       "      <td>11.136779</td>\n",
       "      <td>0.554695</td>\n",
       "      <td>68.574901</td>\n",
       "      <td>9.549407</td>\n",
       "      <td>18.455534</td>\n",
       "      <td>12.653063</td>\n",
       "      <td>22.532806</td>\n",
       "    </tr>\n",
       "    <tr>\n",
       "      <th>std</th>\n",
       "      <td>23.322453</td>\n",
       "      <td>0.253994</td>\n",
       "      <td>0.702617</td>\n",
       "      <td>2.105710</td>\n",
       "      <td>168.537116</td>\n",
       "      <td>91.294864</td>\n",
       "      <td>8.601545</td>\n",
       "      <td>6.860353</td>\n",
       "      <td>0.115878</td>\n",
       "      <td>28.148861</td>\n",
       "      <td>8.707259</td>\n",
       "      <td>2.164946</td>\n",
       "      <td>7.141062</td>\n",
       "      <td>9.197104</td>\n",
       "    </tr>\n",
       "    <tr>\n",
       "      <th>min</th>\n",
       "      <td>0.000000</td>\n",
       "      <td>0.000000</td>\n",
       "      <td>3.561000</td>\n",
       "      <td>1.129600</td>\n",
       "      <td>187.000000</td>\n",
       "      <td>0.320000</td>\n",
       "      <td>0.006320</td>\n",
       "      <td>0.460000</td>\n",
       "      <td>0.385000</td>\n",
       "      <td>2.900000</td>\n",
       "      <td>1.000000</td>\n",
       "      <td>12.600000</td>\n",
       "      <td>1.730000</td>\n",
       "      <td>5.000000</td>\n",
       "    </tr>\n",
       "    <tr>\n",
       "      <th>25%</th>\n",
       "      <td>0.000000</td>\n",
       "      <td>0.000000</td>\n",
       "      <td>5.885500</td>\n",
       "      <td>2.100175</td>\n",
       "      <td>279.000000</td>\n",
       "      <td>375.377500</td>\n",
       "      <td>0.082045</td>\n",
       "      <td>5.190000</td>\n",
       "      <td>0.449000</td>\n",
       "      <td>45.025000</td>\n",
       "      <td>4.000000</td>\n",
       "      <td>17.400000</td>\n",
       "      <td>6.950000</td>\n",
       "      <td>17.025000</td>\n",
       "    </tr>\n",
       "    <tr>\n",
       "      <th>50%</th>\n",
       "      <td>0.000000</td>\n",
       "      <td>0.000000</td>\n",
       "      <td>6.208500</td>\n",
       "      <td>3.207450</td>\n",
       "      <td>330.000000</td>\n",
       "      <td>391.440000</td>\n",
       "      <td>0.256510</td>\n",
       "      <td>9.690000</td>\n",
       "      <td>0.538000</td>\n",
       "      <td>77.500000</td>\n",
       "      <td>5.000000</td>\n",
       "      <td>19.050000</td>\n",
       "      <td>11.360000</td>\n",
       "      <td>21.200000</td>\n",
       "    </tr>\n",
       "    <tr>\n",
       "      <th>75%</th>\n",
       "      <td>12.500000</td>\n",
       "      <td>0.000000</td>\n",
       "      <td>6.623500</td>\n",
       "      <td>5.188425</td>\n",
       "      <td>666.000000</td>\n",
       "      <td>396.225000</td>\n",
       "      <td>3.677082</td>\n",
       "      <td>18.100000</td>\n",
       "      <td>0.624000</td>\n",
       "      <td>94.075000</td>\n",
       "      <td>24.000000</td>\n",
       "      <td>20.200000</td>\n",
       "      <td>16.955000</td>\n",
       "      <td>25.000000</td>\n",
       "    </tr>\n",
       "    <tr>\n",
       "      <th>max</th>\n",
       "      <td>100.000000</td>\n",
       "      <td>1.000000</td>\n",
       "      <td>8.780000</td>\n",
       "      <td>12.126500</td>\n",
       "      <td>711.000000</td>\n",
       "      <td>396.900000</td>\n",
       "      <td>88.976200</td>\n",
       "      <td>27.740000</td>\n",
       "      <td>0.871000</td>\n",
       "      <td>100.000000</td>\n",
       "      <td>24.000000</td>\n",
       "      <td>22.000000</td>\n",
       "      <td>37.970000</td>\n",
       "      <td>50.000000</td>\n",
       "    </tr>\n",
       "  </tbody>\n",
       "</table>\n",
       "</div>"
      ],
      "text/plain": [
       "               V1          V2          V3          V4          V5          V6  \\\n",
       "count  506.000000  506.000000  506.000000  506.000000  506.000000  506.000000   \n",
       "mean    11.363636    0.069170    6.284634    3.795043  408.237154  356.674032   \n",
       "std     23.322453    0.253994    0.702617    2.105710  168.537116   91.294864   \n",
       "min      0.000000    0.000000    3.561000    1.129600  187.000000    0.320000   \n",
       "25%      0.000000    0.000000    5.885500    2.100175  279.000000  375.377500   \n",
       "50%      0.000000    0.000000    6.208500    3.207450  330.000000  391.440000   \n",
       "75%     12.500000    0.000000    6.623500    5.188425  666.000000  396.225000   \n",
       "max    100.000000    1.000000    8.780000   12.126500  711.000000  396.900000   \n",
       "\n",
       "               V7          V8          V9         V10         V11         V12  \\\n",
       "count  506.000000  506.000000  506.000000  506.000000  506.000000  506.000000   \n",
       "mean     3.613524   11.136779    0.554695   68.574901    9.549407   18.455534   \n",
       "std      8.601545    6.860353    0.115878   28.148861    8.707259    2.164946   \n",
       "min      0.006320    0.460000    0.385000    2.900000    1.000000   12.600000   \n",
       "25%      0.082045    5.190000    0.449000   45.025000    4.000000   17.400000   \n",
       "50%      0.256510    9.690000    0.538000   77.500000    5.000000   19.050000   \n",
       "75%      3.677082   18.100000    0.624000   94.075000   24.000000   20.200000   \n",
       "max     88.976200   27.740000    0.871000  100.000000   24.000000   22.000000   \n",
       "\n",
       "              V13      target  \n",
       "count  506.000000  506.000000  \n",
       "mean    12.653063   22.532806  \n",
       "std      7.141062    9.197104  \n",
       "min      1.730000    5.000000  \n",
       "25%      6.950000   17.025000  \n",
       "50%     11.360000   21.200000  \n",
       "75%     16.955000   25.000000  \n",
       "max     37.970000   50.000000  "
      ]
     },
     "execution_count": 5,
     "metadata": {},
     "output_type": "execute_result"
    }
   ],
   "source": [
    "data.describe()"
   ]
  },
  {
   "cell_type": "markdown",
   "metadata": {},
   "source": [
    "# Algoritmos usados"
   ]
  },
  {
   "cell_type": "code",
   "execution_count": null,
   "metadata": {},
   "outputs": [],
   "source": [
    "# Modelo\n",
    "def modeloRegressao(data,predictors, lasso = False):\n",
    "    # Separação em grupos de teste e de treino\n",
    "    dfTrain, dfTest = train_test_split(data, test_size=0.1, random_state = seed_value)\n",
    "\n",
    "    X_train = np.array(dfTrain[predictors])\n",
    "    y_train = np.array(dfTrain['target'])\n",
    "\n",
    "    X_test = np.array(dfTest[predictors])\n",
    "    y_test = np.array(dfTest['target'])\n",
    "\n",
    "    # Create linear regression object\n",
    "    if (lasso):\n",
    "        regr = sk.linear_model.Lasso(normalize=True)\n",
    "    else:\n",
    "        regr = sk.linear_model.LinearRegression(normalize=True)\n",
    "\n",
    "    # Train the model using the training sets\n",
    "    regr.fit(X_train, y_train)\n",
    "\n",
    "    # Make predictions using the testing set\n",
    "    y_pred = regr.predict(X_test)\n",
    "\n",
    "    # Dados preditos\n",
    "    df_predicted = pd.DataFrame(data = y_test)\n",
    "    df_predicted['pred'] = y_pred\n",
    "    df_predicted.columns = ['test','pred']\n",
    "    #print(df_predicted)\n",
    "\n",
    "    # The coefficients\n",
    "    print('Coefficients:     ', regr.coef_)\n",
    "    print('Intercept:        ', regr.intercept_)\n",
    "\n",
    "    # The mean squared error (MSE)\n",
    "    print('Mean Absolute Error: %.2f'% mean_absolute_error(y_test, y_pred))  \n",
    "    print('Mean Squared Error: %.2f'% mean_squared_error(y_test, y_pred))  \n",
    "    print('Root Mean Squared Error: %.2f' % np.sqrt(mean_squared_error(y_test, y_pred)))\n",
    "    print('Root Mean Squared Error in Percentage: %.2f' % (100*np.sqrt(mean_squared_error(y_test, y_pred))/165.33))\n",
    "\n",
    "    # Explained variance score: 1 is perfect prediction\n",
    "    print('Variance score:     %.2f' % r2_score(y_test, y_pred))\n",
    "\n",
    "    # R^2 (coefficient of determination) regression score function.\n",
    "    # Best possible score is 1.0 and it can be negative (because the model can be arbitrarily worse). \n",
    "\n",
    "    # A constant model that always predicts the expected value of y, disregarding the input features, \n",
    "    # would get a R^2 score of 0.0.\n",
    "\n",
    "    # considering only the mean values of y_train\n",
    "    print('Variance score (baseline): %.2f' % r2_score(y_test, [np.mean(y_train) for i in range(len(y_test))]))\n",
    "\n",
    "    #plot\n",
    "    ncols = 5\n",
    "    axArr = list(range(len(predictors)))\n",
    "    if (len(predictors) > 2 * ncols):\n",
    "        fig, (axArr[:ncols-1],axArr[ncols:2*ncols-1], axArr[2*ncols:]) = plt.subplots(nrows=3, ncols=ncols, figsize=(20,15))\n",
    "    elif (len(predictors) > ncols):\n",
    "        fig, (axArr[:ncols-1],axArr[ncols:]) = plt.subplots(nrows=2, ncols=ncols, figsize=(20,10))\n",
    "    else:\n",
    "        fig, (axArr) = plt.subplots(nrows=1, ncols=ncols, figsize=(20,5))\n",
    "    for p in range(len(predictors)):\n",
    "        auxX = []\n",
    "        for i in range(len(X_test)):\n",
    "            auxX.append(X_test[i][p])\n",
    "        axArr[p].scatter(auxX, y_test, color= '#67cc14', alpha=0.7)\n",
    "        axArr[p].scatter(auxX, y_pred, color='#1772d8', alpha=0.7)\n",
    "        axArr[p].set(xlabel= predictors[p])\n",
    "    axArr[0].set(ylabel= 'target');\n",
    "    fig.legend(['Real', 'Predito'], title = 'Legenda', loc='upper left')\n",
    "    return regr"
   ]
  },
  {
   "cell_type": "markdown",
   "metadata": {},
   "source": [
    "# Correlações entre variáveis e 'target'"
   ]
  },
  {
   "cell_type": "markdown",
   "metadata": {},
   "source": [
    "### Visualizando"
   ]
  },
  {
   "cell_type": "code",
   "execution_count": null,
   "metadata": {},
   "outputs": [],
   "source": [
    "fig, (axes) = plt.subplots(nrows=4, ncols=4, figsize=(20,20))\n",
    "columns = list(data.columns)\n",
    "aX = 0 # counting the ax\n",
    "line_plot = 0 # counting the line in the plot\n",
    "for column in columns:\n",
    "    if (column != 'target'):\n",
    "        x = data[column]\n",
    "        y = data['target']\n",
    "        ax = axes[line_plot, aX%4]\n",
    "        ax.scatter(x,y)\n",
    "        ax.set(xlabel = column, ylabel = 'target')\n",
    "        if (aX%4 == 3):\n",
    "            line_plot += 1\n",
    "        aX += 1"
   ]
  },
  {
   "cell_type": "markdown",
   "metadata": {},
   "source": [
    "Ao observarmos os gráficos, as variáveis V3, V7 e V13 podem ter uma correlação forte com 'target'"
   ]
  },
  {
   "cell_type": "markdown",
   "metadata": {},
   "source": [
    "### Feature selection"
   ]
  },
  {
   "cell_type": "markdown",
   "metadata": {},
   "source": [
    "Vamos tentar selecionar as nossas features através de bibliotecas que nos ajudam a ver as correlações entre variáveis"
   ]
  },
  {
   "cell_type": "markdown",
   "metadata": {},
   "source": [
    "#### Correlation matrix"
   ]
  },
  {
   "cell_type": "code",
   "execution_count": null,
   "metadata": {},
   "outputs": [],
   "source": [
    "from sklearn.model_selection import train_test_split\n",
    "from sklearn import neighbors\n",
    "from sklearn import tree\n",
    "from sklearn import svm\n",
    "from sklearn import metrics\n",
    "\n",
    "# Calculando a matriz de correlação\n",
    "corr = data.corr()\n",
    "\n",
    "sns.set(font_scale=1.5)\n",
    "#print(corr)\n",
    "# Analisando as correlações de 'status' com as outras variáveis\n",
    "c = corr['target'].drop('target')\n",
    "c.plot(kind='barh', title = 'Correlação com Target', figsize = (14,10), color = '#5499C7', grid = True)\n",
    "pass"
   ]
  },
  {
   "cell_type": "code",
   "execution_count": null,
   "metadata": {},
   "outputs": [],
   "source": [
    "# Montando uma matriz de confusão com as correlações entre todas as variáveis\n",
    "f, ax = plt.subplots(figsize=(50,50))\n",
    "cmap = sns.color_palette(\"Spectral\", 10)\n",
    "\n",
    "sns.set(font_scale=2.4)\n",
    "\n",
    "ax = sns.heatmap(corr, cmap=cmap, center=0, annot=True, fmt='.3f',\n",
    "            square=True, linewidths=.5, cbar_kws={\"shrink\": .5})"
   ]
  },
  {
   "cell_type": "markdown",
   "metadata": {},
   "source": [
    "As variáveis com mais correlação positiva com o indicador 'target' parecem ser:\n",
    "* V3\n",
    "* V1 (porém < 0.5)\n",
    "* V6 (porém < 0.5)\n",
    "\n",
    "As variáveis com mais correlação negativa com o indicador 'target' parecem ser:\n",
    "* V13\n",
    "* V12\n",
    "* V8 (porém > -0.5)\n",
    "* V5 (porém > -0.5)\n",
    "* V9 (porém > -0.5)"
   ]
  },
  {
   "cell_type": "markdown",
   "metadata": {},
   "source": [
    "#### Feature importance"
   ]
  },
  {
   "cell_type": "code",
   "execution_count": null,
   "metadata": {},
   "outputs": [],
   "source": [
    "from sklearn.ensemble import ExtraTreesClassifier\n",
    "sns.set(font_scale=1.5)\n",
    "\n",
    "X = data.drop('target',axis=1).iloc[:,1:]\n",
    "y = data['target'].astype('int')\n",
    "model = ExtraTreesClassifier()\n",
    "model.fit(X,y)\n",
    "\n",
    "# plot graph of feature importances for better visualization\n",
    "feat_importances = pd.Series(model.feature_importances_, index=X.columns)\n",
    "feat_importances.nlargest(11).plot(kind='barh', title = 'Feature importance')\n",
    "plt.show()"
   ]
  },
  {
   "cell_type": "markdown",
   "metadata": {},
   "source": [
    "## Modelo 1\n",
    "### Todas as features"
   ]
  },
  {
   "cell_type": "code",
   "execution_count": null,
   "metadata": {
    "scrolled": false
   },
   "outputs": [],
   "source": [
    "# Dados que usaremos\n",
    "predictors = list(data.columns)[0:13]\n",
    "model1 = modeloRegressao(data,predictors)"
   ]
  },
  {
   "cell_type": "markdown",
   "metadata": {},
   "source": [
    "## Modelo 2\n",
    "### Todas as features com correlação positiva na correlation matrix"
   ]
  },
  {
   "cell_type": "code",
   "execution_count": null,
   "metadata": {},
   "outputs": [],
   "source": [
    "# Dados que usaremos\n",
    "predictors = ['V1','V2','V3','V4','V6']\n",
    "data_model2 = data[predictors + ['target']]\n",
    "model2 = modeloRegressao(data_model2,predictors)"
   ]
  },
  {
   "cell_type": "markdown",
   "metadata": {},
   "source": [
    "## Modelo 3\n",
    "### Todas as features com correlação negativa na correlation matrix"
   ]
  },
  {
   "cell_type": "code",
   "execution_count": null,
   "metadata": {},
   "outputs": [],
   "source": [
    "# Dados que usaremos\n",
    "predictors = ['V5','V7','V8','V9','V10','V11','V12','V13']\n",
    "data_model3 = data[predictors + ['target']]\n",
    "model3 = modeloRegressao(data_model3,predictors)"
   ]
  },
  {
   "cell_type": "markdown",
   "metadata": {},
   "source": [
    "## Modelo 4\n",
    "### Todas as features com correlação de valor absoluto > 0.5 na correlation matrix"
   ]
  },
  {
   "cell_type": "code",
   "execution_count": null,
   "metadata": {},
   "outputs": [],
   "source": [
    "# Dados que usaremos\n",
    "predictors = ['V3','V12','V13']\n",
    "data_model4 = data[predictors + ['target']]\n",
    "model4 = modeloRegressao(data_model4,predictors)"
   ]
  },
  {
   "cell_type": "markdown",
   "metadata": {},
   "source": [
    "## Modelo 5\n",
    "### Todas as features com importância no método de feature importance"
   ]
  },
  {
   "cell_type": "code",
   "execution_count": null,
   "metadata": {},
   "outputs": [],
   "source": [
    "# Dados que usaremos\n",
    "predictors = ['V13','V3','V10','V7','V4','V6','V9','V12','V8','V5','V11']\n",
    "data_model5 = data[predictors + ['target']]\n",
    "model5 = modeloRegressao(data_model5,predictors)"
   ]
  },
  {
   "cell_type": "code",
   "execution_count": null,
   "metadata": {},
   "outputs": [],
   "source": [
    "# Somente as 5 mais importantes\n",
    "predictors = ['V13','V3','V10','V7','V6']\n",
    "data_model5_2 = data[predictors + ['target']]\n",
    "model5_2 = modeloRegressao(data_model5_2,predictors)"
   ]
  },
  {
   "cell_type": "markdown",
   "metadata": {},
   "source": [
    "## Modelo 6 - Ridge Regression com as features do modelo 5"
   ]
  },
  {
   "cell_type": "code",
   "execution_count": null,
   "metadata": {
    "scrolled": false
   },
   "outputs": [],
   "source": [
    "# Dados que usaremos\n",
    "data_model6 = data_model5\n",
    "# Somente as 5 mais importantes\n",
    "predictors = ['V13','V3','V10','V7','V6']\n",
    "_ = modeloRegressao(data_model6, predictors)"
   ]
  },
  {
   "cell_type": "markdown",
   "metadata": {},
   "source": [
    "=> Diminui a variance score ao penalizar as features"
   ]
  },
  {
   "cell_type": "markdown",
   "metadata": {},
   "source": [
    "## Modelo 7 - Lasso Regression com as features do modelo 5"
   ]
  },
  {
   "cell_type": "code",
   "execution_count": null,
   "metadata": {
    "scrolled": false
   },
   "outputs": [],
   "source": [
    "# Dados que usaremos\n",
    "data_model7 = data_model5\n",
    "# Somente as 5 mais importantes\n",
    "predictors = ['V13','V3','V10','V7','V6']\n",
    "_ = modeloRegressao(data_model7, predictors, lasso = True)"
   ]
  },
  {
   "cell_type": "markdown",
   "metadata": {},
   "source": [
    "# Considerações finais"
   ]
  },
  {
   "cell_type": "markdown",
   "metadata": {},
   "source": [
    "Concluimos que, com este modelo, o melhor variance score foi obtido incluindo todas as features na regressão. Percebe-se também, que esse dataset é um dataSet utópico. O qual possui features com importâncias diferentes, porém, todas contribuem para a regressão ficar mais precisa, sem ter features que atrapalhem na qualidade da regressão."
   ]
  }
 ],
 "metadata": {
  "kernelspec": {
   "display_name": "Python 3",
   "language": "python",
   "name": "python3"
  },
  "language_info": {
   "codemirror_mode": {
    "name": "ipython",
    "version": 3
   },
   "file_extension": ".py",
   "mimetype": "text/x-python",
   "name": "python",
   "nbconvert_exporter": "python",
   "pygments_lexer": "ipython3",
   "version": "3.7.1"
  }
 },
 "nbformat": 4,
 "nbformat_minor": 2
}

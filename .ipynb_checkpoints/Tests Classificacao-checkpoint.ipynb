{
 "cells": [
  {
   "cell_type": "code",
   "execution_count": 1,
   "metadata": {},
   "outputs": [],
   "source": [
    "import pandas as pd\n",
    "import numpy as np\n",
    "import matplotlib.pyplot as plt\n",
    "import seaborn as sns\n",
    "\n",
    "\n",
    "%matplotlib inline \n",
    "plt.style.use('seaborn-whitegrid')\n",
    "plt.rc('font', family='Arial')\n",
    "plt.rc('xtick', labelsize=12) \n",
    "plt.rc('ytick', labelsize=12) \n",
    "plt.rc('font', size=12) \n",
    "plt.rc('figure', figsize = (12, 5))"
   ]
  },
  {
   "cell_type": "code",
   "execution_count": 2,
   "metadata": {},
   "outputs": [],
   "source": [
    "# Set a seed value: \n",
    "seed_value= 1001004  \n",
    "# 1. Set PYTHONHASHSEED environment variable at a fixed value: \n",
    "import os\n",
    "os.environ['PYTHONHASHSEED']=str(seed_value) \n",
    "# 2. Set python built-in pseudo-random generator at a fixed value:\n",
    "import random\n",
    "random.seed(seed_value) \n",
    "# 3. Set numpy pseudo-random generator at a fixed value:\n",
    "np.random.seed(seed_value) "
   ]
  },
  {
   "cell_type": "code",
   "execution_count": 3,
   "metadata": {},
   "outputs": [],
   "source": [
    "filename = 'parkinsons.data'\n",
    "dfParkinson = pd.read_csv(filename)"
   ]
  },
  {
   "cell_type": "code",
   "execution_count": 4,
   "metadata": {},
   "outputs": [
    {
     "name": "stdout",
     "output_type": "stream",
     "text": [
      "[ 48 147]\n"
     ]
    }
   ],
   "source": [
    "outcome_column = 'status'\n",
    "# status: 0: healthy, 1: Parkinson's\n",
    "outcome_labels = {0: 'healthy', 1:'Parkinson`s'}\n",
    "label_counts = np.bincount(dfParkinson.status)\n",
    "print(label_counts)"
   ]
  },
  {
   "cell_type": "markdown",
   "metadata": {},
   "source": [
    "# Todas as colunas"
   ]
  },
  {
   "cell_type": "code",
   "execution_count": 5,
   "metadata": {},
   "outputs": [
    {
     "data": {
      "text/plain": [
       "['MDVP:Fo(Hz)',\n",
       " 'MDVP:Fhi(Hz)',\n",
       " 'MDVP:Flo(Hz)',\n",
       " 'MDVP:Jitter(%)',\n",
       " 'MDVP:Jitter(Abs)',\n",
       " 'MDVP:RAP',\n",
       " 'MDVP:PPQ',\n",
       " 'Jitter:DDP',\n",
       " 'MDVP:Shimmer',\n",
       " 'MDVP:Shimmer(dB)',\n",
       " 'Shimmer:APQ3',\n",
       " 'Shimmer:APQ5',\n",
       " 'MDVP:APQ',\n",
       " 'Shimmer:DDA',\n",
       " 'NHR',\n",
       " 'HNR',\n",
       " 'RPDE',\n",
       " 'DFA',\n",
       " 'spread1',\n",
       " 'spread2',\n",
       " 'D2',\n",
       " 'PPE']"
      ]
     },
     "execution_count": 5,
     "metadata": {},
     "output_type": "execute_result"
    }
   ],
   "source": [
    "# Selecionamos todas as colunas como features, menos 'name' e 'status', essa última sendo nosso target.\n",
    "features = [col for col in dfParkinson.columns if col not in ['name', 'status']]\n",
    "features"
   ]
  },
  {
   "cell_type": "code",
   "execution_count": 6,
   "metadata": {},
   "outputs": [
    {
     "name": "stdout",
     "output_type": "stream",
     "text": [
      "Features da primeira instância:  [ 1.199920e+02  1.573020e+02  7.499700e+01  7.840000e-03  7.000000e-05\n",
      "  3.700000e-03  5.540000e-03  1.109000e-02  4.374000e-02  4.260000e-01\n",
      "  2.182000e-02  3.130000e-02  2.971000e-02  6.545000e-02  2.211000e-02\n",
      "  2.103300e+01  4.147830e-01  8.152850e-01 -4.813031e+00  2.664820e-01\n",
      "  2.301442e+00  2.846540e-01]\n",
      "Target da primeira instância:  1\n"
     ]
    }
   ],
   "source": [
    "# convert feature dataframe and label series to arrays\n",
    "X = np.array(dfParkinson[features]) # X = array de dados dos pacientes\n",
    "print(\"Features da primeira instância: \", X[0, :])\n",
    "\n",
    "Y = np.array(dfParkinson[outcome_column]) # Y = outcome \"status\" dos pacientes\n",
    "print(\"Target da primeira instância: \", Y[0])"
   ]
  },
  {
   "cell_type": "code",
   "execution_count": 106,
   "metadata": {},
   "outputs": [
    {
     "data": {
      "image/png": "[encoded data removed]",
      "text/plain": [
       "<Figure size 864x432 with 1 Axes>"
      ]
     },
     "metadata": {
      "needs_background": "light"
     },
     "output_type": "display_data"
    },
    {
     "data": {
      "image/png": "[encoded data removed]",
      "text/plain": [
       "<Figure size 864x432 with 1 Axes>"
      ]
     },
     "metadata": {
      "needs_background": "light"
     },
     "output_type": "display_data"
    }
   ],
   "source": [
    "from sklearn.model_selection import train_test_split\n",
    "from sklearn import neighbors\n",
    "from sklearn import tree\n",
    "from sklearn import svm\n",
    "from sklearn import metrics\n",
    "PRC = 0.2\n",
    "random.seed(seed_value) \n",
    "\n",
    "# Selecionamos todas as colunas como features, menos 'name' e 'status', essa última sendo nosso target.\n",
    "features_all = [col for col in dfParkinson.columns if col not in ['name', 'status']]\n",
    "\n",
    "features_half = []\n",
    "num_columns = len(features_all)\n",
    "#print(features_all)\n",
    "#print(num_columns)\n",
    "\n",
    "random_columns = sorted(random.sample(range(0, num_columns), int(num_columns/2)))\n",
    "#print(random_columns)    \n",
    "\n",
    "for i in range(len(random_columns)):\n",
    "    features_half.append(features_all[random_columns[i]])\n",
    "\n",
    "features = [features_all,features_half]\n",
    "\n",
    "for j in range(2):\n",
    "    # convert feature dataframe and label series to arrays\n",
    "    X = np.array(dfParkinson[features[j]]) # X = array de dados dos pacientes\n",
    "    #print(\"Features da primeira instância: \", X[0, :])\n",
    "\n",
    "    Y = np.array(dfParkinson[outcome_column]) # Y = outcome \"status\" dos pacientes\n",
    "    #print(\"Target da primeira instância: \", Y[0])\n",
    "\n",
    "\n",
    "    # run 10 times, generating 4 models each time\n",
    "    acc_r=np.zeros((50,4))\n",
    "\n",
    "    # 10 iterations\n",
    "    for i in range(50):\n",
    "        X_train, X_test, Y_train, Y_test = train_test_split(X, Y, test_size=PRC,random_state = seed_value)\n",
    "\n",
    "\n",
    "        dfTrain, dfTest = train_test_split(dfParkinson, test_size=0.2, \n",
    "                                       stratify=dfParkinson[outcome_column],random_state = seed_value)\n",
    "\n",
    "        # convertemos dataframe de features e labels em arrays\n",
    "        X_train = np.array(dfTrain[features[j]])\n",
    "        Y_train = np.array(dfTrain[outcome_column])\n",
    "\n",
    "        # convertemos dataframe de features e labels em arrays\n",
    "        X_test = np.array(dfTest[features[j]])\n",
    "        Y_test = np.array(dfTest[outcome_column])\n",
    "\n",
    "        # configure 4 types of models\n",
    "        nn1 = neighbors.KNeighborsClassifier(n_neighbors=3) # KNN com 1 vizinho\n",
    "        nn3 = neighbors.KNeighborsClassifier(n_neighbors=6) # KNN com 3 vizinhos\n",
    "        svc = svm.SVC(gamma='auto') # SVM\n",
    "        dt = tree.DecisionTreeClassifier(max_depth = 3) # Decision Tree\n",
    "\n",
    "        # train each model\n",
    "        nn1.fit(X_train,Y_train)\n",
    "        nn3.fit(X_train,Y_train)\n",
    "        svc.fit(X_train,Y_train)\n",
    "        dt.fit(X_train,Y_train)\n",
    "\n",
    "        # test each model\n",
    "        Yhat_nn1=nn1.predict(X_test)\n",
    "        Yhat_nn3=nn3.predict(X_test)\n",
    "        Yhat_svc=svc.predict(X_test)\n",
    "        Yhat_dt=dt.predict(X_test)\n",
    "\n",
    "        # accuracy of each model at this iteration\n",
    "        acc_r[i][0] = metrics.accuracy_score(Yhat_nn1, Y_test)\n",
    "        acc_r[i][1] = metrics.accuracy_score(Yhat_nn3, Y_test)\n",
    "        acc_r[i][2] = metrics.accuracy_score(Yhat_svc, Y_test)\n",
    "        acc_r[i][3] = metrics.accuracy_score(Yhat_dt, Y_test)\n",
    "\n",
    "    plt.figure(figsize=(12,6))\n",
    "    plt.boxplot(acc_r)\n",
    "    for i in range(4):\n",
    "        xderiv = (i+1) * np.ones(acc_r[:,i].shape) + (np.random.rand(50,)-0.5) * 0.1\n",
    "        plt.plot(xderiv, acc_r[:,i], 'ro', alpha=0.3)\n",
    "\n",
    "    ax = plt.gca()\n",
    "    ax.set_xticklabels(['3-NN', '6-NN', 'SVM', 'Decision Tree'])\n",
    "    plt.ylabel('Accuracy')\n",
    "    \n",
    "    if (j==0): ax.set_title(\"Todas as features no modelo\")\n",
    "    if (j==1): ax.set_title(\"Metade das features no modelo\")\n",
    "\n",
    "    #plt.savefig('figs/error_ms_1.png',dpi=300, bbox_inches='tight')"
   ]
  },
  {
   "cell_type": "code",
   "execution_count": 133,
   "metadata": {},
   "outputs": [
    {
     "data": {
      "image/png": "[encoded data removed]",
      "text/plain": [
       "<Figure size 1080x432 with 1 Axes>"
      ]
     },
     "metadata": {
      "needs_background": "light"
     },
     "output_type": "display_data"
    },
    {
     "data": {
      "image/png": "[encoded data removed]",
      "text/plain": [
       "<Figure size 1080x432 with 1 Axes>"
      ]
     },
     "metadata": {
      "needs_background": "light"
     },
     "output_type": "display_data"
    }
   ],
   "source": [
    "from sklearn.model_selection import train_test_split\n",
    "from sklearn import neighbors\n",
    "from sklearn import tree\n",
    "from sklearn import svm\n",
    "from sklearn import metrics\n",
    "PRC = 0.2\n",
    "\n",
    "\n",
    "# Set a seed value: \n",
    "seed_value= 1001001 \n",
    "# 1. Set PYTHONHASHSEED environment variable at a fixed value: \n",
    "import os\n",
    "os.environ['PYTHONHASHSEED']=str(seed_value) \n",
    "# 2. Set python built-in pseudo-random generator at a fixed value:\n",
    "import random\n",
    "random.seed(seed_value) \n",
    "# 3. Set numpy pseudo-random generator at a fixed value:\n",
    "np.random.seed(seed_value)\n",
    "\n",
    "\n",
    "# Selecionamos todas as colunas como features, menos 'name' e 'status', essa última sendo nosso target.\n",
    "features_all = [col for col in dfParkinson.columns if col not in ['name', 'status']]\n",
    "\n",
    "features_half = []\n",
    "num_columns = len(features_all)\n",
    "#print(features_all)\n",
    "#print(num_columns)\n",
    "\n",
    "random_columns = sorted(random.sample(range(0, num_columns), int(num_columns/2)))\n",
    "#print(random_columns)    \n",
    "\n",
    "for i in range(len(random_columns)):\n",
    "    features_half.append(features_all[random_columns[i]])\n",
    "\n",
    "features = [features_all,features_half]\n",
    "\n",
    "for j in range(2):\n",
    "    # convert feature dataframe and label series to arrays\n",
    "    X = np.array(dfParkinson[features[j]]) # X = array de dados dos pacientes\n",
    "    #print(\"Features da primeira instância: \", X[0, :])\n",
    "\n",
    "    Y = np.array(dfParkinson[outcome_column]) # Y = outcome \"status\" dos pacientes\n",
    "    #print(\"Target da primeira instância: \", Y[0])\n",
    "\n",
    "    # run 10 times, generating 13 models each time\n",
    "    acc_r=np.zeros((10,13))\n",
    "\n",
    "    # 10 iterations\n",
    "    for i in range(10):\n",
    "        # Controlamos que os valores sejam sempre os mesmos,\n",
    "        # Mas cada iteraçao deve ter dados diferentes para nao obter sempre a mesma accuracy\n",
    "        seed = seed_value + i*1200 \n",
    "        X_train, X_test, Y_train, Y_test = train_test_split(X, Y, test_size=PRC,random_state = seed)\n",
    "\n",
    "\n",
    "        # configure 4 types of models\n",
    "        nn1 = neighbors.KNeighborsClassifier(n_neighbors=1) \n",
    "        nn2 = neighbors.KNeighborsClassifier(n_neighbors=2) \n",
    "        nn3 = neighbors.KNeighborsClassifier(n_neighbors=3) \n",
    "        nn4 = neighbors.KNeighborsClassifier(n_neighbors=4)\n",
    "        nn5 = neighbors.KNeighborsClassifier(n_neighbors=5)\n",
    "        nn6 = neighbors.KNeighborsClassifier(n_neighbors=6)\n",
    "        svc = svm.SVC(gamma='auto') # SVM\n",
    "        dt2 = tree.DecisionTreeClassifier(max_depth = 2) # Decision Tree\n",
    "        dt3 = tree.DecisionTreeClassifier(max_depth = 3) # Decision Tree\n",
    "        dt4 = tree.DecisionTreeClassifier(max_depth = 4) # Decision Tree\n",
    "        dt5 = tree.DecisionTreeClassifier(max_depth = 5) # Decision Tree\n",
    "        dt6 = tree.DecisionTreeClassifier(max_depth = 6) # Decision Tree\n",
    "        dt7 = tree.DecisionTreeClassifier(max_depth = 7) # Decision Tree\n",
    "\n",
    "        # train each model\n",
    "        nn1.fit(X_train,Y_train)\n",
    "        nn2.fit(X_train,Y_train)\n",
    "        nn3.fit(X_train,Y_train)\n",
    "        nn4.fit(X_train,Y_train)\n",
    "        nn5.fit(X_train,Y_train)\n",
    "        nn6.fit(X_train,Y_train)\n",
    "        svc.fit(X_train,Y_train)\n",
    "        dt2.fit(X_train,Y_train)\n",
    "        dt3.fit(X_train,Y_train)\n",
    "        dt4.fit(X_train,Y_train)\n",
    "        dt5.fit(X_train,Y_train)\n",
    "        dt6.fit(X_train,Y_train)\n",
    "        dt7.fit(X_train,Y_train)\n",
    "\n",
    "        # test each model\n",
    "        Yhat_nn1=nn1.predict(X_test)\n",
    "        Yhat_nn2=nn2.predict(X_test)\n",
    "        Yhat_nn3=nn3.predict(X_test)\n",
    "        Yhat_nn4=nn4.predict(X_test)\n",
    "        Yhat_nn5=nn5.predict(X_test)\n",
    "        Yhat_nn6=nn6.predict(X_test)\n",
    "        Yhat_svc=svc.predict(X_test)\n",
    "        Yhat_dt2=dt2.predict(X_test)\n",
    "        Yhat_dt3=dt3.predict(X_test)\n",
    "        Yhat_dt4=dt4.predict(X_test)\n",
    "        Yhat_dt5=dt5.predict(X_test)\n",
    "        Yhat_dt6=dt6.predict(X_test)\n",
    "        Yhat_dt7=dt7.predict(X_test)\n",
    "\n",
    "        # accuracy of each model at this iteration\n",
    "        acc_r[i][0] = metrics.accuracy_score(Yhat_nn1, Y_test)\n",
    "        acc_r[i][1] = metrics.accuracy_score(Yhat_nn2, Y_test)\n",
    "        acc_r[i][2] = metrics.accuracy_score(Yhat_nn3, Y_test)\n",
    "        acc_r[i][3] = metrics.accuracy_score(Yhat_nn4, Y_test)\n",
    "        acc_r[i][4] = metrics.accuracy_score(Yhat_nn5, Y_test)\n",
    "        acc_r[i][5] = metrics.accuracy_score(Yhat_nn6, Y_test)\n",
    "        acc_r[i][6] = metrics.accuracy_score(Yhat_svc, Y_test)\n",
    "        acc_r[i][7] = metrics.accuracy_score(Yhat_dt2, Y_test)\n",
    "        acc_r[i][8] = metrics.accuracy_score(Yhat_dt3, Y_test)\n",
    "        acc_r[i][9] = metrics.accuracy_score(Yhat_dt4, Y_test)\n",
    "        acc_r[i][10] = metrics.accuracy_score(Yhat_dt5, Y_test)\n",
    "        acc_r[i][11] = metrics.accuracy_score(Yhat_dt6, Y_test)\n",
    "        acc_r[i][12] = metrics.accuracy_score(Yhat_dt7, Y_test)\n",
    "\n",
    "    plt.figure(figsize=(15,6))\n",
    "    plt.boxplot(acc_r)\n",
    "    for i in range(13):\n",
    "        xderiv = (i+1) * np.ones(acc_r[:,i].shape) + (np.random.rand(10,)-0.5) * 0.1\n",
    "        plt.plot(xderiv, acc_r[:,i], 'ro', alpha=0.3)\n",
    "\n",
    "    ax = plt.gca()\n",
    "    ax.set_xticklabels(['1-NN', '2-NN','3-NN', '4-NN','5-NN', '6-NN','SVM',\n",
    "                        'DT2','DT3','DT4','DT5','DT6','DT7'])\n",
    "    plt.ylabel('Accuracy')\n",
    "    \n",
    "    if (j==0): ax.set_title(\"Todas as features no modelo\")\n",
    "    if (j==1): ax.set_title(\"Metade das features no modelo\")\n",
    "\n",
    "    #plt.savefig('figs/error_ms_1.png',dpi=300, bbox_inches='tight')"
   ]
  },
  {
   "cell_type": "code",
   "execution_count": null,
   "metadata": {},
   "outputs": [],
   "source": []
  },
  {
   "cell_type": "code",
   "execution_count": null,
   "metadata": {},
   "outputs": [],
   "source": []
  },
  {
   "cell_type": "code",
   "execution_count": null,
   "metadata": {},
   "outputs": [],
   "source": []
  },
  {
   "cell_type": "code",
   "execution_count": null,
   "metadata": {},
   "outputs": [],
   "source": []
  },
  {
   "cell_type": "code",
   "execution_count": null,
   "metadata": {},
   "outputs": [],
   "source": []
  },
  {
   "cell_type": "code",
   "execution_count": null,
   "metadata": {},
   "outputs": [],
   "source": []
  },
  {
   "cell_type": "code",
   "execution_count": null,
   "metadata": {},
   "outputs": [],
   "source": []
  },
  {
   "cell_type": "code",
   "execution_count": null,
   "metadata": {},
   "outputs": [],
   "source": []
  }
 ],
 "metadata": {
  "kernelspec": {
   "display_name": "Python 3",
   "language": "python",
   "name": "python3"
  },
  "language_info": {
   "codemirror_mode": {
    "name": "ipython",
    "version": 3
   },
   "file_extension": ".py",
   "mimetype": "text/x-python",
   "name": "python",
   "nbconvert_exporter": "python",
   "pygments_lexer": "ipython3",
   "version": "3.7.1"
  }
 },
 "nbformat": 4,
 "nbformat_minor": 2
}

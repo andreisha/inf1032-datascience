{
 "cells": [
  {
   "cell_type": "markdown",
   "metadata": {},
   "source": [
    "## PROMOTE GENDER EQUALITY AND EMPOWER WOMEN"
   ]
  },
  {
   "cell_type": "markdown",
   "metadata": {},
   "source": [
    "Equipe :\n",
    "    * Jéssica Villar - 1613176\n",
    "    * Fernando Tancini - 1711799\n",
    "    * Andrea Mourelo - 1820000"
   ]
  },
  {
   "cell_type": "markdown",
   "metadata": {},
   "source": [
    "# Considerações iniciais"
   ]
  },
  {
   "cell_type": "markdown",
   "metadata": {},
   "source": [
    "A ideia deste trabalho é fazer uma análise da situaçao de um dos objetivos de desenvolvimento do milênio da ONU: 'Promote Gender Equality and Empower Women'. \n",
    "\n",
    "Para isso, usamos os dados públicos do site 'Human Development Reports' da ONU (http://hdr.undp.org/en/data), usando os dados provenientes do download completo do banco (botão 'Download 2018 Human Development Data Bank' no menu da esquerda).\n",
    "\n",
    "Durante a nossa pesquisa, achamos incompleto esse dataset, uma vez que não tinha uma coluna descrevendo a região e tipo de renda de cada país. Por isso, coletamos também esses dados a partir de uma outra fonte (https://databank.worldbank.org/data/reports.aspx?source=2&country=HIC).\n",
    "\n",
    "Neste trabalho, vamos fazer o seguinte:\n",
    "* Primeiro, fazer uma análise exploratória dos dados para compreender com que tipo de dados estamos lidando e qual a organizaçao deles. Nesta parte, vamos também transformar um pouco a organização para que seja mais facíl de analisar.\n",
    "\n",
    "* Depois, vamos fazer uma análise descritiva (numérica e visual) dos dados para compreender algumas tendências e observar visualmente os dados.\n",
    "\n",
    "* Finalmente, vamos tentar responder a umas 10/15 perguntas sobre o tema \"Promote Gender Equality and Empower Women\"."
   ]
  },
  {
   "cell_type": "markdown",
   "metadata": {},
   "source": [
    "# Análise Exploratória de Dados"
   ]
  },
  {
   "cell_type": "code",
   "execution_count": null,
   "metadata": {},
   "outputs": [],
   "source": [
    "from IPython.display import display, Markdown, Latex\n",
    "import pandas as pd\n",
    "import numpy as np\n",
    "import matplotlib.pyplot as plt\n",
    "import matplotlib"
   ]
  },
  {
   "cell_type": "markdown",
   "metadata": {},
   "source": [
    "## 1. Lendo os dados"
   ]
  },
  {
   "cell_type": "code",
   "execution_count": null,
   "metadata": {},
   "outputs": [],
   "source": [
    "# Dados incompletos coletados do site http://hdr.undp.org/en/content/developing-regions  (menu esquerda 'Download DB 2018')\n",
    "filename = 'Dados/HDR_2018_data.xlsx'\n",
    "first_data = pd.read_excel(filename)\n",
    "\n",
    "# Dados coletados a partir de outra fonte para categorizar os países por região e tipo de renda\n",
    "metadata_filename = 'Dados/HDR_2018_country_metadata.xlsx'\n",
    "country_metadata = pd.read_excel(metadata_filename)"
   ]
  },
  {
   "cell_type": "code",
   "execution_count": null,
   "metadata": {},
   "outputs": [],
   "source": [
    "print(first_data.shape)\n",
    "print(country_metadata.shape)"
   ]
  },
  {
   "cell_type": "code",
   "execution_count": null,
   "metadata": {},
   "outputs": [],
   "source": [
    "first_data.head()"
   ]
  },
  {
   "cell_type": "code",
   "execution_count": null,
   "metadata": {},
   "outputs": [],
   "source": [
    "country_metadata.head()"
   ]
  },
  {
   "cell_type": "code",
   "execution_count": null,
   "metadata": {},
   "outputs": [],
   "source": [
    "# Fazemos merge para poder categorizar os dados por região e tipo de renda\n",
    "data = pd.merge(left=first_data, right=country_metadata, how='left', left_on='iso3', right_on='Code')\n",
    "\n",
    "# Evitamos redundâncias\n",
    "data.drop('Code', axis=1, inplace=True) # 1 is the axis number (0 for rows and 1 for columns) & inplace to not have to reassign a new df"
   ]
  },
  {
   "cell_type": "code",
   "execution_count": null,
   "metadata": {},
   "outputs": [],
   "source": [
    "data.shape # Temos bem mesmo numero de linhas + 3 colunas a mais"
   ]
  },
  {
   "cell_type": "code",
   "execution_count": null,
   "metadata": {},
   "outputs": [],
   "source": [
    "data.head()"
   ]
  },
  {
   "cell_type": "code",
   "execution_count": null,
   "metadata": {},
   "outputs": [],
   "source": [
    "# Mudando o nome de algumas colunas\n",
    "data.rename(columns={'dimension':'category','iso3':'code','Long Name':'long_name','Income Group':'income_group','Region':'region'},inplace=True)"
   ]
  },
  {
   "cell_type": "code",
   "execution_count": null,
   "metadata": {
    "scrolled": true
   },
   "outputs": [],
   "source": [
    "data.info()"
   ]
  },
  {
   "cell_type": "markdown",
   "metadata": {},
   "source": [
    "Os dados parecem estar corretamente classificados, sendo:\n",
    "* 'object' os dados de string\n",
    "* 'int' e 'float64' os dados numéricos"
   ]
  },
  {
   "cell_type": "markdown",
   "metadata": {},
   "source": [
    "## Convertendo o dataset"
   ]
  },
  {
   "cell_type": "markdown",
   "metadata": {},
   "source": [
    "Segundo o princípio de 'tidy data':\n",
    "* Colunas representas variaveis diferentes\n",
    "* Linhas representam observacoes individuais\n",
    "\n",
    "Então nosso dataset tem que ser modificado para ter nas colunas os dados que nos interessam."
   ]
  },
  {
   "cell_type": "code",
   "execution_count": null,
   "metadata": {},
   "outputs": [],
   "source": [
    "# Criamos uma linha por pais, indicador e ano\n",
    "data_per_year = pd.melt(frame=data, id_vars=['category','indicator_id','indicator_name','code', 'country_name','long_name','income_group','region'], var_name = 'year')\n",
    "\n",
    "# Jogamos fora algumas colunas que nao interessam para analise\n",
    "data_per_year.drop('indicator_id', axis=1, inplace=True)\n",
    "data_per_year.drop('long_name', axis=1, inplace=True)\n"
   ]
  },
  {
   "cell_type": "code",
   "execution_count": null,
   "metadata": {},
   "outputs": [],
   "source": [
    "data_per_year.head()"
   ]
  },
  {
   "cell_type": "code",
   "execution_count": null,
   "metadata": {},
   "outputs": [],
   "source": [
    "# Alguns dados interessantes\n",
    "\n",
    "print(data_per_year.shape)\n",
    "\n",
    "# 157 indicadores diferentes estudados\n",
    "indicators = data.indicator_name.unique()\n",
    "print(indicators.shape)\n",
    "\n",
    "# Diferentes indicadores de gênero estudados\n",
    "gender_indicators = data[(data.category == 'Gender')].indicator_name.unique()\n",
    "print(gender_indicators)"
   ]
  },
  {
   "cell_type": "code",
   "execution_count": null,
   "metadata": {},
   "outputs": [],
   "source": [
    "# Depois desse comando, vamos ter um MultiIndex com uma linha por paíss e ano e todos os indicadores em colunas\n",
    "data_tidy = data_per_year.pivot_table(index=['code', 'country_name','income_group','region','year'],\n",
    "                                     columns = 'indicator_name', values = 'value')"
   ]
  },
  {
   "cell_type": "code",
   "execution_count": null,
   "metadata": {
    "scrolled": true
   },
   "outputs": [],
   "source": [
    "data_tidy.head(50)"
   ]
  },
  {
   "cell_type": "code",
   "execution_count": null,
   "metadata": {},
   "outputs": [],
   "source": [
    "# Isso vai permitir voltar a um DataFrame normal\n",
    "data_tidy.reset_index(inplace=True)\n",
    "data_tidy.shape"
   ]
  },
  {
   "cell_type": "code",
   "execution_count": null,
   "metadata": {},
   "outputs": [],
   "source": [
    "data_tidy.head()"
   ]
  },
  {
   "cell_type": "code",
   "execution_count": null,
   "metadata": {},
   "outputs": [],
   "source": [
    "data_tidy.shape\n",
    "# Vemos que temos bem 1 linha por país e ano, pois: 5655 = 29 * 195 (195 países e 28 anos estudados + ano '9999')"
   ]
  },
  {
   "cell_type": "code",
   "execution_count": null,
   "metadata": {},
   "outputs": [],
   "source": [
    "# Valores mais recentes para fazer análises numéricas (o último ano do dataset é 2017) \n",
    "recent_data = data_tidy[(data_tidy.year == 2017)]"
   ]
  },
  {
   "cell_type": "code",
   "execution_count": null,
   "metadata": {},
   "outputs": [],
   "source": [
    "recent_data.head()"
   ]
  },
  {
   "cell_type": "code",
   "execution_count": null,
   "metadata": {},
   "outputs": [],
   "source": [
    "# Função para criar um df com dados de uma ou mais categorias\n",
    "def data_categorias_recente(categorias):  # categorias sendo uma lista\n",
    "    indicators = data[data.category.isin(categorias)].indicator_name.unique()\n",
    "    other_indicators = np.array(['code','country_name','income_group','region'])\n",
    "    recent_indicators = np.concatenate((other_indicators,indicators))\n",
    "    return recent_data[recent_indicators]"
   ]
  },
  {
   "cell_type": "code",
   "execution_count": null,
   "metadata": {},
   "outputs": [],
   "source": [
    "# Valores mais recentes de GÊNERO para fazer análises numéricas\n",
    "recent_data_gender = data_categorias_recente(['Gender'])\n",
    "recent_data_gender"
   ]
  },
  {
   "cell_type": "code",
   "execution_count": null,
   "metadata": {
    "scrolled": true
   },
   "outputs": [],
   "source": [
    "recent_data_gender.columns"
   ]
  },
  {
   "cell_type": "code",
   "execution_count": null,
   "metadata": {},
   "outputs": [],
   "source": [
    "# Modificando nomes das colunas de gênero para que estejam mais compactadas\n",
    "\n",
    "# Jogamos fora as partes de (% of ...)\n",
    "new_cols = []\n",
    "for element in recent_data_gender.columns:\n",
    "    if '(%' in element : \n",
    "        element = element.split(' (%')[0]\n",
    "    if '(years)' in element : \n",
    "        element = element.split(' (years)')[0]\n",
    "    new_cols.append(element)\n",
    "recent_data_gender.columns = new_cols\n",
    "\n",
    "# Modificando alguns na mão\n",
    "recent_data_gender.rename(columns={'Female share of graduates in science, mathematics, engineering, manufacturing and construction at tertiary level':'Female share of graduates in SME, manufacturing and construction'},inplace=True)"
   ]
  },
  {
   "cell_type": "code",
   "execution_count": null,
   "metadata": {
    "scrolled": true
   },
   "outputs": [],
   "source": [
    "recent_data_gender.info()"
   ]
  },
  {
   "cell_type": "markdown",
   "metadata": {},
   "source": [
    "Vemos que não há dados catalogados no ano '2017' sobre:\n",
    "* Child marriage, women married by age 18 (% of women ages 20–24 years who are married or in union)\n",
    "* Female share of graduates in science, mathematics, engineering, manufacturing and construction at tertiary level (%)\n",
    "* Violence against women ever experienced, intimate partner (% of female population ages 15 and older)\n",
    "* Violence against women ever experienced, nonintimate partner (% of female population ages 15 and older)\n",
    "\n",
    "Porém esses dados se encontram preenchidos no ano '9999'. Iremos analisá-los separadamente."
   ]
  },
  {
   "cell_type": "code",
   "execution_count": null,
   "metadata": {},
   "outputs": [],
   "source": [
    "print(recent_data_gender.shape)\n",
    "recent_data_gender.drop('Child marriage, women married by age 18',axis=1, inplace=True)\n",
    "recent_data_gender.drop('Female share of graduates in SME, manufacturing and construction',axis = 1, inplace = True)\n",
    "recent_data_gender.drop('Violence against women ever experienced, intimate partner',axis = 1, inplace = True)\n",
    "recent_data_gender.drop('Violence against women ever experienced, nonintimate partner',axis = 1, inplace = True)\n",
    "print(recent_data_gender.shape)"
   ]
  },
  {
   "cell_type": "markdown",
   "metadata": {},
   "source": [
    "## 2. Examinando dados"
   ]
  },
  {
   "cell_type": "markdown",
   "metadata": {},
   "source": [
    "### 2.1. Dados numéricos"
   ]
  },
  {
   "cell_type": "markdown",
   "metadata": {},
   "source": [
    "### 2017"
   ]
  },
  {
   "cell_type": "code",
   "execution_count": null,
   "metadata": {},
   "outputs": [],
   "source": [
    "recent_data_gender.describe()"
   ]
  },
  {
   "cell_type": "code",
   "execution_count": null,
   "metadata": {
    "scrolled": false
   },
   "outputs": [],
   "source": [
    "# Removendo as colunas que apresentaram menos de 10% (count < 19.5) dos dados preenchidos\n",
    "recent_data_gender.drop('Antenatal care coverage, at least one visit',axis=1,inplace=True)\n",
    "recent_data_gender.drop('Contraceptive prevalence, any method',axis=1,inplace=True)\n",
    "recent_data_gender.drop('Female share of employment in senior and middle management',axis=1,inplace=True)\n",
    "recent_data_gender.drop('Proportion of births attended by skilled health personnel',axis=1,inplace=True)\n",
    "recent_data_gender.drop('Unmet need for family planning',axis=1,inplace=True)\n",
    "recent_data_gender.shape"
   ]
  },
  {
   "cell_type": "code",
   "execution_count": null,
   "metadata": {},
   "outputs": [],
   "source": [
    "rdg_HDI = recent_data_gender[['Human Development Index (HDI), female','Human Development Index (HDI), male']][['Human Development Index (HDI), female','Human Development Index (HDI), male']].dropna()\n",
    "rdg_HDI.columns = ['Female', 'Male']\n",
    "\n",
    "fig, ax1= plt.subplots(figsize=(8,5))\n",
    "matplotlib.rcParams.update({'font.size': 14})\n",
    "\n",
    "female_HDI = rdg_HDI['Female']\n",
    "male_HDI = rdg_HDI['Male']\n",
    "\n",
    "#female_HDI.plot(ax = ax1, kind = 'box', title = 'Female')\n",
    "#male_HDI.plot(ax = ax2, kind = 'box', title = 'Male')\n",
    "rdg_HDI.plot(ax = ax1, kind = 'box', title = 'Human Development Index (HDI)')\n",
    "pass"
   ]
  },
  {
   "cell_type": "markdown",
   "metadata": {},
   "source": [
    "Observamos uma distribuiçao mais homogênea no HDI para homens do que para mulheres"
   ]
  },
  {
   "cell_type": "code",
   "execution_count": null,
   "metadata": {},
   "outputs": [],
   "source": [
    "rdg_paidmaternity = recent_data_gender['Mandatory paid maternity leave (days)'].dropna()\n",
    "\n",
    "fig, ax1= plt.subplots(figsize=(10,5))\n",
    "matplotlib.rcParams.update({'font.size': 14})\n",
    "ax1.hist(rdg_paidmaternity, color='c', alpha=0.3)\n",
    "ax1.set_title('Mandatory paid maternity leave (days)')\n",
    "pass"
   ]
  },
  {
   "cell_type": "code",
   "execution_count": null,
   "metadata": {},
   "outputs": [],
   "source": [
    "# Como curiosidade, quais países apresentam mais de 600 dias de licença de maternidade remunerada obrigatória (dias)?\n",
    "recent_data_gender[recent_data_gender['Mandatory paid maternity leave (days)'] >= 600].country_name"
   ]
  },
  {
   "cell_type": "code",
   "execution_count": null,
   "metadata": {},
   "outputs": [],
   "source": [
    "# Quais países estão acima da média de dias da licença de maternidade remunerada obrigatória?\n",
    "paid_maternity_mean = rdg_paidmaternity.mean()\n",
    "rdg_paidmaternity_above_mean = recent_data_gender[recent_data_gender['Mandatory paid maternity leave (days)']>=paid_maternity_mean]\n",
    "rdg_paidmaternity_above_mean[['country_name','Mandatory paid maternity leave (days)']]"
   ]
  },
  {
   "cell_type": "code",
   "execution_count": null,
   "metadata": {},
   "outputs": [],
   "source": [
    "rdg_paidmaternity_above_mean['income_group'].value_counts()"
   ]
  },
  {
   "cell_type": "markdown",
   "metadata": {},
   "source": [
    "Podemos observar que a maioria dos países, em que a quantidade de dias de licença maternidade paga obrigatório é maior do que é a média, estão concentrados nos países de alta renda ou renda média alta."
   ]
  },
  {
   "cell_type": "code",
   "execution_count": null,
   "metadata": {
    "scrolled": true
   },
   "outputs": [],
   "source": [
    "rdg_paidmaternity_above_mean['region'].value_counts()"
   ]
  },
  {
   "cell_type": "markdown",
   "metadata": {},
   "source": [
    "A Europa e a Ásia Central são as regiões mais bem desenvolvidas nesse aspecto."
   ]
  },
  {
   "cell_type": "code",
   "execution_count": null,
   "metadata": {},
   "outputs": [],
   "source": [
    "rdg_unemployment = recent_data_gender['Youth unemployment rate (female to male ratio)'].dropna()\n",
    "\n",
    "fig, ax1= plt.subplots(figsize=(10,5))\n",
    "matplotlib.rcParams.update({'font.size': 14})\n",
    "ax1.hist(rdg_unemployment, color='c', alpha=0.3)\n",
    "plt.axvline(x=1.00, color='r', alpha = 1,linestyle = '--', linewidth = 3) # Plotando no ratio = 1\n",
    "ax1.set_title('Youth unemployment rate (female to male ratio)')\n",
    "pass"
   ]
  },
  {
   "cell_type": "markdown",
   "metadata": {},
   "source": [
    "Observamos que a existem muitas mais mulheres jovens desempregadas do que homens"
   ]
  },
  {
   "cell_type": "code",
   "execution_count": null,
   "metadata": {},
   "outputs": [],
   "source": [
    "# Quais países estão com proporção female/male de desemprego juvenil acima da média?\n",
    "unemployment_mean = rdg_unemployment.mean()\n",
    "rdg_unemployment_above_mean = recent_data_gender[recent_data_gender['Youth unemployment rate (female to male ratio)'] >= unemployment_mean]\n",
    "print('Quantidade de países nessa situação:', rdg_unemployment_above_mean.shape[0], '\\nSão eles:')\n",
    "rdg_unemployment_above_mean[['country_name','Youth unemployment rate (female to male ratio)']]"
   ]
  },
  {
   "cell_type": "code",
   "execution_count": null,
   "metadata": {},
   "outputs": [],
   "source": [
    "rdg_unemployment_above_mean['income_group'].value_counts()"
   ]
  },
  {
   "cell_type": "code",
   "execution_count": null,
   "metadata": {},
   "outputs": [],
   "source": [
    "rdg_unemployment_above_mean['region'].value_counts()"
   ]
  },
  {
   "cell_type": "markdown",
   "metadata": {},
   "source": [
    "Sub-Saharan Africa e Latin America & Caribbean são as regiões mais preocupantes e, juntas, representam 57,14% do total de países acima da média da proporção de desemprego female/male."
   ]
  },
  {
   "cell_type": "code",
   "execution_count": null,
   "metadata": {
    "scrolled": true
   },
   "outputs": [],
   "source": [
    "# Segundo o UNDP (United States Development Program), quanto maior o valor de 'Gender Inequality Index (GII)', mais disparidades entre mulheres e homens e mais perda para o desenvolvimento humano!\n",
    "rdg_GII = recent_data_gender['Gender Inequality Index (GII)'].dropna()\n",
    "\n",
    "fig, ax1= plt.subplots(figsize=(10,5))\n",
    "matplotlib.rcParams.update({'font.size': 12})\n",
    "ax1.hist(rdg_GII, color='c', alpha=0.3)\n",
    "ax1.set_title('Gender Inequality Index (GII)')\n",
    "pass"
   ]
  },
  {
   "cell_type": "code",
   "execution_count": null,
   "metadata": {
    "scrolled": true
   },
   "outputs": [],
   "source": [
    "recent_data_gender[recent_data_gender['Gender Inequality Index (GII)'] >= 0.5]['region'].value_counts()"
   ]
  },
  {
   "cell_type": "code",
   "execution_count": null,
   "metadata": {},
   "outputs": [],
   "source": [
    "recent_data_gender[recent_data_gender['Gender Inequality Index (GII)'] >= 0.5]['income_group'].value_counts()"
   ]
  },
  {
   "cell_type": "markdown",
   "metadata": {},
   "source": [
    "### Trabalhando com o ano '9999'"
   ]
  },
  {
   "cell_type": "code",
   "execution_count": null,
   "metadata": {},
   "outputs": [],
   "source": [
    "different_data = data_tidy[data_tidy.year == 9999]"
   ]
  },
  {
   "cell_type": "code",
   "execution_count": null,
   "metadata": {},
   "outputs": [],
   "source": [
    "different_data.head()"
   ]
  },
  {
   "cell_type": "code",
   "execution_count": null,
   "metadata": {},
   "outputs": [],
   "source": [
    "# Função para criar um df com dados de uma ou mais categorias\n",
    "def data_categorias_diferente(categorias):  # categorias sendo uma lista\n",
    "    indicators = data[data.category.isin(categorias)].indicator_name.unique()\n",
    "    other_indicators = np.array(['code','country_name','income_group','region'])\n",
    "    different_indicators = np.concatenate((other_indicators,indicators))\n",
    "    return different_data[different_indicators]"
   ]
  },
  {
   "cell_type": "code",
   "execution_count": null,
   "metadata": {},
   "outputs": [],
   "source": [
    "# Valores mais recentes de GÊNERO para fazer análises numéricas\n",
    "different_data_gender = data_categorias_diferente(['Gender'])\n",
    "different_data_gender.head()"
   ]
  },
  {
   "cell_type": "code",
   "execution_count": null,
   "metadata": {
    "scrolled": true
   },
   "outputs": [],
   "source": [
    "# Pegamos as colunas que faltam serem analisadas\n",
    "different_data_gender = different_data_gender[['country_name','income_group','region','Child marriage, women married by age 18 (% of women ages 20–24 years who are married or in union)','Female share of graduates in science, mathematics, engineering, manufacturing and construction at tertiary level (%)','Violence against women ever experienced, intimate partner (% of female population ages 15 and older)','Violence against women ever experienced, nonintimate partner (% of female population ages 15 and older)']]\n",
    "different_data_gender.head()"
   ]
  },
  {
   "cell_type": "code",
   "execution_count": null,
   "metadata": {},
   "outputs": [],
   "source": [
    "# Modificando nomes das colunas de gênero para que estejam mais compactadas\n",
    "\n",
    "# Jogamos fora as partes de (% of ...)\n",
    "new_cols = []\n",
    "for element in different_data_gender.columns:\n",
    "    if '(%' in element : \n",
    "        element = element.split(' (%')[0]\n",
    "    if '(years)' in element : \n",
    "        element = element.split(' (years)')[0]\n",
    "    new_cols.append(element)\n",
    "different_data_gender.columns = new_cols\n",
    "\n",
    "# Modificando alguns na mão\n",
    "different_data_gender.rename(columns={'Female share of graduates in science, mathematics, engineering, manufacturing and construction at tertiary level':'Female share of graduates in SME, manufacturing and construction'},inplace=True)"
   ]
  },
  {
   "cell_type": "code",
   "execution_count": null,
   "metadata": {
    "scrolled": true
   },
   "outputs": [],
   "source": [
    "different_data_gender.info()"
   ]
  },
  {
   "cell_type": "code",
   "execution_count": null,
   "metadata": {},
   "outputs": [],
   "source": [
    "different_data_gender.describe()"
   ]
  },
  {
   "cell_type": "markdown",
   "metadata": {},
   "source": [
    "### 2007 - 2017\n",
    "#### O indicador 'Female share of graduates in SME, manufacturing and construction' no ano '9999' é equivalente ao intervalo de '2007 - 2017', como pode ser observar em 'Dados/HDR_2018_all_indicators.xlsx'"
   ]
  },
  {
   "cell_type": "code",
   "execution_count": null,
   "metadata": {},
   "outputs": [],
   "source": [
    "ddg_graduation = different_data_gender['Female share of graduates in SME, manufacturing and construction'].dropna()\n",
    "\n",
    "fig, ax1 = plt.subplots(figsize=(10,5))\n",
    "\n",
    "matplotlib.rcParams.update({'font.size': 14})\n",
    "ax1.hist(ddg_graduation, color='c', alpha=0.3)\n",
    "ax1.set_title('Female share of graduates in SME, manufacturing and construction at tertiary level (%)')\n",
    "pass"
   ]
  },
  {
   "cell_type": "markdown",
   "metadata": {},
   "source": [
    "Observamos que as mulheres tem uma representaçao muito baixa nesses setores"
   ]
  },
  {
   "cell_type": "markdown",
   "metadata": {},
   "source": [
    "### 2005 - 2018\n",
    "#### O indicador 'Violence against women ever experienced, intimate partner' no ano '9999' é equivalente ao intervalo de '2005 - 2018', como pode ser observar em 'Dados/HDR_2018_all_indicators.xlsx'"
   ]
  },
  {
   "cell_type": "code",
   "execution_count": null,
   "metadata": {},
   "outputs": [],
   "source": [
    "ddg_violence = different_data_gender['Violence against women ever experienced, intimate partner'].dropna()\n",
    "\n",
    "fig, ax1 = plt.subplots(figsize = (10,5))\n",
    "\n",
    "matplotlib.rcParams.update({'font.size': 14})\n",
    "ax1.hist(ddg_violence, color='c', alpha=0.3)\n",
    "ax1.set_title('Violence against women ever experienced, intimate partner (%)')\n",
    "pass"
   ]
  },
  {
   "cell_type": "markdown",
   "metadata": {},
   "source": [
    "Observamos uns dados extremamente preocupantes : muitas mulheres têm tido violências provenientes dos seus companheros intimos"
   ]
  },
  {
   "cell_type": "markdown",
   "metadata": {},
   "source": [
    "### 2.2. Dados categóricos"
   ]
  },
  {
   "cell_type": "code",
   "execution_count": null,
   "metadata": {},
   "outputs": [],
   "source": [
    "# Nem todos os países tem dados para todas as categorias\n",
    "data['country_name'].value_counts(dropna=False)"
   ]
  },
  {
   "cell_type": "code",
   "execution_count": null,
   "metadata": {},
   "outputs": [],
   "source": [
    "# Os indicadores não tem o mesmo número de respostas\n",
    "print(pd.DataFrame(data['indicator_name'].value_counts(dropna=False)))"
   ]
  },
  {
   "cell_type": "code",
   "execution_count": null,
   "metadata": {},
   "outputs": [],
   "source": [
    "# Número de respostas por indicador de gênero\n",
    "print(pd.DataFrame(data[(data.category == 'Gender')]['indicator_name'].value_counts(dropna=False)))"
   ]
  },
  {
   "cell_type": "markdown",
   "metadata": {},
   "source": [
    "### Visualizando"
   ]
  },
  {
   "cell_type": "code",
   "execution_count": null,
   "metadata": {},
   "outputs": [],
   "source": [
    "def qnt_indicadores(col = 'country_name', category = \"\", ano = 0):\n",
    "    #tirar o 9999 inicialmente\n",
    "    not_9999 = data_per_year[data_per_year.year != 9999]\n",
    "    # com dropna() tiramos os registros de pais-indicador-ano que não estão informados\n",
    "    dpy_notna = not_9999.dropna()\n",
    "    if (ano):\n",
    "        dpy_notna = dpy_notna[dpy_notna.year == ano]\n",
    "    if (category != \"\"):\n",
    "        dpy_notna = dpy_notna[dpy_notna.category == category]\n",
    "    qnt_indic = pd.DataFrame(dpy_notna.groupby(col).count()['value'])\n",
    "    qnt_indic = qnt_indic.rename(columns={'value': 'Quantidade de Indicadores'})\n",
    "    return (qnt_indic)"
   ]
  },
  {
   "cell_type": "code",
   "execution_count": null,
   "metadata": {},
   "outputs": [],
   "source": [
    "def qnt_indicadores_years(col = 'country_name', category = \"\"):\n",
    "    myData = data\n",
    "    if (category != \"\"):\n",
    "        myData = myData[myData.category == category]\n",
    "    cols = ['country_name','indicator_id', 'indicator_name', 'code', 'category', 'long_name', 'income_group', 'region',9999]\n",
    "    cols.remove(col)\n",
    "    myData = myData.drop(columns=cols)\n",
    "    myData = myData.set_index(col)\n",
    "    myData = myData.groupby(col)\n",
    "    myData = pd.DataFrame(myData.count())\n",
    "    return myData"
   ]
  },
  {
   "cell_type": "code",
   "execution_count": null,
   "metadata": {},
   "outputs": [],
   "source": [
    "# Visualizar quantidade de indicadores por país do BRICS\n",
    "qnt_indic_por_pais = qnt_indicadores()\n",
    "brics = ['Brazil', 'Russian Federation', 'India', 'China', 'South Africa']\n",
    "qnt_indic_brics = qnt_indic_por_pais.loc[brics]\n",
    "ax = qnt_indic_brics.plot(kind='barh', title = 'Quantidade de indicadores por país (BRICS)', figsize = (10,4), legend=False)\n",
    "ax.set_ylabel('')\n",
    "ax.set_xlabel('Número de indicadores')\n",
    "pass"
   ]
  },
  {
   "cell_type": "code",
   "execution_count": null,
   "metadata": {
    "scrolled": true
   },
   "outputs": [],
   "source": [
    "# Visualizar quantidade de indicadores de gênero por país do BRICS\n",
    "qnt_indic_gender_por_pais = qnt_indicadores(category = 'Gender')\n",
    "qnt_indic_gender_brics = qnt_indic_gender_por_pais.loc[brics]\n",
    "ax = qnt_indic_gender_brics.plot(kind='barh', title = 'Quantidade de indicadores de GÊNERO por país (BRICS)', figsize = (10,4), legend=False)\n",
    "ax.set_ylabel('')\n",
    "ax.set_xlabel('Número de indicadores')"
   ]
  },
  {
   "cell_type": "markdown",
   "metadata": {},
   "source": [
    "O Brasil parece ser o pais mais preocupado com a coleta de dados de gênero nos paises do BRICS"
   ]
  },
  {
   "cell_type": "code",
   "execution_count": null,
   "metadata": {},
   "outputs": [],
   "source": [
    "# Visualizar quantidade indicadores de gênero dos países mais os têm\n",
    "qnt_indic_gender_por_pais = qnt_indicadores(category = 'Gender')\n",
    "qnt_indic_gender_por_pais_ordenado = qnt_indic_gender_por_pais.sort_values(by = 'Quantidade de Indicadores', ascending = False)\n",
    "qnt_indic_gender_por_pais_ordenado_max = qnt_indic_gender_por_pais_ordenado.head(15).sort_values(by = 'Quantidade de Indicadores') # Permite colocar o maior acima do plot\n",
    "\n",
    "ax = qnt_indic_gender_por_pais_ordenado_max.plot(kind='barh', title = 'Paises com mais indicadores de gênero', figsize = (10,4), legend=False)\n",
    "ax.set_ylabel('')\n",
    "ax.set_xlabel('Número de indicadores')"
   ]
  },
  {
   "cell_type": "code",
   "execution_count": null,
   "metadata": {},
   "outputs": [],
   "source": [
    "def timeEvolutionPerCountry(indicator, country, startYear = 1990, endYear = 2017):    \n",
    "    myData = data_per_year\n",
    "    myData = myData[myData.indicator_name == indicator]\n",
    "    myData = myData[myData.year != 9999]\n",
    "\n",
    "    myData = myData[myData.country_name == country]\n",
    "    \n",
    "    # remove anos anteriores ao startYear\n",
    "    i = 1990\n",
    "    while (i < startYear):\n",
    "        myData = myData[myData.year != i]\n",
    "        i += 1\n",
    "        \n",
    "    # remove anos posteriores ao endYear\n",
    "    i = endYear + 1\n",
    "    while (i < 2018):\n",
    "        myData = myData[myData.year != i]\n",
    "        i += 1\n",
    "    \n",
    "    myData = myData.dropna()\n",
    "    return myData"
   ]
  },
  {
   "cell_type": "code",
   "execution_count": null,
   "metadata": {},
   "outputs": [],
   "source": [
    "myData = timeEvolutionPerCountry(indicator = 'Total unemployment rate (female to male ratio)', country = 'Brazil', startYear = 2005)\n",
    "ax = myData.plot(x = 'year', y = 'value', figsize= (10,5))\n",
    "ax.set_xlabel('Ano')\n",
    "ax.set_xlabel('Total unemployment rate (female to male ratio)')\n",
    "_ = plt.legend(labels=['Brazil'],loc='center left', bbox_to_anchor=(1, 0.5))\n",
    "\n",
    "pass"
   ]
  },
  {
   "cell_type": "markdown",
   "metadata": {},
   "source": [
    "Parece que tem tido uma melhora na taxa nos últimos anos."
   ]
  },
  {
   "cell_type": "code",
   "execution_count": null,
   "metadata": {},
   "outputs": [],
   "source": [
    "# Evolução da coleta de dados de indicadores de gênero no Brazil:\n",
    "qnt_indic_gender_no_tempo_por_pais = qnt_indicadores_years(category = 'Gender')\n",
    "qnt_indic_gender_no_tempo_brazil = qnt_indic_gender_no_tempo_por_pais.loc[['Brazil']]\n",
    "ax = qnt_indic_gender_no_tempo_brazil.iloc[0].plot(figsize = (15,5), legend=['Brazil'], title = \"Evoluçao da quantidade de indicadores coletados no Brasil\")\n",
    "ax.set_ylabel('Quantidade de indicadores')\n",
    "ax.set_xlabel('Ano')"
   ]
  },
  {
   "cell_type": "code",
   "execution_count": null,
   "metadata": {},
   "outputs": [],
   "source": [
    "# Evolução da coleta de dados de indicadores de gênero em relação a região:\n",
    "qnt_indic_gender_no_tempo_por_regiao = qnt_indicadores_years(col='region', category = 'Gender')\n",
    "qnt_indic_gender_no_tempo_por_regiao = qnt_indic_gender_no_tempo_por_regiao.drop(\n",
    "    columns=[1990,1991,1992,1993,1994,1995,1996,1997,1998,1999,2000,2001,2002, 2003, 2004, 2005])\n",
    "ax = qnt_indic_gender_no_tempo_por_regiao.transpose().plot(figsize=(15,7), title = \"Quantidade de indicadores de gênero por regiao\")\n",
    "ax.set_ylabel('Quantidade de indicadores')\n",
    "ax.set_xlabel('Ano')\n",
    "_ = plt.legend(loc='center left', bbox_to_anchor=(1, 0.5))\n",
    "pass"
   ]
  },
  {
   "cell_type": "code",
   "execution_count": null,
   "metadata": {},
   "outputs": [],
   "source": [
    "def compare(df, c1, c2,title,ylabel):\n",
    "    myData = df\n",
    "    colsToRemove = []\n",
    "    for c in myData.columns:\n",
    "        colsToRemove.append(c)\n",
    "    colsNotToRemove = [c1, c2]\n",
    "    for n in colsNotToRemove:\n",
    "        colsToRemove.remove(n)\n",
    "    myData = myData.drop(columns=colsToRemove)\n",
    "    myData = myData.dropna()\n",
    "    ax = myData.plot(kind='scatter', figsize=(10,5), x=c1, y=c2, alpha=0.3, title=title)\n",
    "    ax.set_ylabel(ylabel)\n",
    "    return myData"
   ]
  },
  {
   "cell_type": "code",
   "execution_count": null,
   "metadata": {},
   "outputs": [],
   "source": [
    "compare(df=data_tidy, c1='Current health expenditure (% of GDP)', c2='Proportion of births attended by skilled health personnel (%)',title='Current health expenditure and\\n births attended by skilled health personnel',ylabel='Births attended by skilled health personnel(%)')\n",
    "pass"
   ]
  },
  {
   "cell_type": "markdown",
   "metadata": {},
   "source": [
    "Não parece existir muita correlação entre as duas coisas."
   ]
  },
  {
   "cell_type": "code",
   "execution_count": null,
   "metadata": {},
   "outputs": [],
   "source": [
    "rdg_income_grouped = recent_data_gender.rename(columns= {'income_group': \"Income Group\"}).groupby('Income Group')\n",
    "seats_par = rdg_income_grouped[\"Share of seats in parliament\"] #(% held by women)\n",
    "mean_seats_par = seats_par.describe()['mean']\n",
    "mean_seats_par = mean_seats_par.reindex(index = ['Low income', 'Lower middle income', 'Upper middle income', 'High income'])\n",
    "ax = mean_seats_par.plot(kind='barh', title = 'Share of seats in parliament (% held by women)', figsize = (10,5))\n",
    "ax.set_xlabel('%')\n",
    "ax.set_ylabel('')\n",
    "pass"
   ]
  },
  {
   "cell_type": "markdown",
   "metadata": {},
   "source": [
    "Parece que quanto maior a renda, maior a proporçao de mulheres no parlamento, mesmo se segue sendo muito baixa até para os paises mais desenvolvidos"
   ]
  },
  {
   "cell_type": "markdown",
   "metadata": {},
   "source": [
    "## PERGUNTA 1 - Quais sao os paises com mais adolescentes grávidas ? "
   ]
  },
  {
   "cell_type": "code",
   "execution_count": null,
   "metadata": {},
   "outputs": [],
   "source": [
    "#fig, (ax1,ax2) = plt.subplots(2, 1, sharex=False, sharey=False, figsize=(5,15))\n",
    "matplotlib.rcParams.update({'font.size': 14})\n",
    "\n",
    "# Primeiro plot : barh\n",
    "\n",
    "column_toPlot = 'Adolescent birth rate (births per 1,000 women ages 15-19)'\n",
    "adolescentBirthRate = recent_data_gender[['country_name',column_toPlot,'income_group']].dropna() # Pegamos dados que nos interessam\n",
    "\n",
    "adolescentBirthRate = adolescentBirthRate.sort_values(by = column_toPlot, ascending = False) # Ordenamos dados em funcao do birth rate\n",
    "adolescentBirthRate_max = adolescentBirthRate.head(15).sort_values(by = column_toPlot) # Permite colocar o maior acima do plot\n",
    "adolescentBirthRate_max.plot(kind='barh', x='country_name', y = column_toPlot,figsize=(10, 5), color='#446699', title = column_toPlot, legend = None)\n",
    "\n",
    "# Segundo plot : fatias\n",
    "\n",
    "adolescentBirthRate.rename(columns={column_toPlot:'birth_rate'}, inplace=True)  # mais facil para filtrar no comando seguinte\n",
    "#Filtramos os que são maiores do que 100\n",
    "adolescentBirthRate_counts100 = adolescentBirthRate[(adolescentBirthRate.birth_rate >= 100)].income_group.value_counts()\n",
    "\n",
    "fig, ax = plt.subplots(figsize=(5, 5))\n",
    "palette_income = {'Low income':'steelblue', 'Lower middle income': 'coral', 'Upper middle income' : 'green', 'High income':'red'}\n",
    "plt.pie(x=adolescentBirthRate_counts100, startangle=90, colors=list(palette_income.values()))\n",
    "ax.set_title(\"Adolescent birth rate > 100 per income group\")\n",
    "_ = plt.legend(adolescentBirthRate_counts100.index,title = 'Income groups',loc='center left', bbox_to_anchor=(1, 0.5))\n"
   ]
  },
  {
   "cell_type": "markdown",
   "metadata": {},
   "source": [
    "Entre os que tem mais adolescentes grávidas, a maioria vem dos países com 'Low Income'"
   ]
  },
  {
   "cell_type": "markdown",
   "metadata": {},
   "source": [
    "## PERGUNTA 2 - Homens e mulheres têm as mesmas oportunidades escolares ?"
   ]
  },
  {
   "cell_type": "code",
   "execution_count": null,
   "metadata": {},
   "outputs": [],
   "source": [
    "# Valores mais recentes de EDUCAÇÃO e GÊNERO\n",
    "recent_data_education_gender = data_categorias_recente(['Education', 'Gender'])\n",
    "\n",
    "# Bloco para criarmos vários grafos sobre educação e gênero\n",
    "matplotlib.rcParams.update({'font.size': 12})\n",
    "\n",
    "# Função que cria uma visualização em função de um critério\n",
    "def comparacao(order,title,criterio_educacao_male, criterio_educacao_female):\n",
    "    gender_schooling = recent_data_education_gender[[criterio_educacao_male, criterio_educacao_female, 'income_group']].dropna() # Pega as colunas de interesse\n",
    "    gender_schooling.rename(columns={criterio_educacao_male:'Male', criterio_educacao_female:'Female'}, inplace=True) # Renomea para visualizaçao\n",
    "    colormap = []\n",
    "    for row in gender_schooling[['income_group']].itertuples(index=True, name='Pandas'): # Colores em funçao do income_group\n",
    "        income = getattr(row, \"income_group\")\n",
    "        if income == 'Low income':\n",
    "            color = 'blue'\n",
    "        elif income == 'Lower middle income':\n",
    "            color = 'yellow'\n",
    "        elif income == 'Upper middle income':\n",
    "            color = 'green'\n",
    "        elif income == 'High income':\n",
    "            color = 'red'\n",
    "        else : \n",
    "            color = 'black'\n",
    "        colormap.append(color)\n",
    "    \n",
    "    gender_schooling.plot( kind = 'scatter',x = 'Male', y ='Female', c=colormap, title = title)\n",
    "    # Plotamos uma reta de equação y=x\n",
    "    border_min_male, border_min_female = gender_schooling.Male.min(), gender_schooling.Female.min()\n",
    "    border_max_male, border_max_female = gender_schooling.Male.max(), gender_schooling.Female.max()\n",
    "    x = np.linspace(min(border_min_male, border_min_female), max(border_max_male, border_max_female)) \n",
    "    plt.plot(x, x, linestyle='-')\n",
    "\n",
    "# Criação da primeira visualização, junto de seu título\n",
    "comparacao(1,'Expected years of schooling (years)','Expected years of schooling, male (years)','Expected years of schooling, female (years)')\n",
    "\n",
    "# Criação da segunda visualização, junto de seu título\n",
    "comparacao(2,'Mean years of schooling (years)','Mean years of schooling, male (years)','Mean years of schooling, female (years)')\n",
    "\n",
    "# Criação da terceira visualização, junto de seu título\n",
    "comparacao(3,'\\nPopulation with at least some secondary education \\n (% ages 25 and older)','Population with at least some secondary education, male (% ages 25 and older)','Population with at least some secondary education, female (% ages 25 and older)')\n"
   ]
  },
  {
   "cell_type": "markdown",
   "metadata": {},
   "source": [
    "Nos três gráficos, vemos que quanto mais a renda aumenta, mais pessoas escolarizadas (grupo vermelho no canto de cima à direita) e mais igualdade na educação (pontos mais proximos da reta).\n",
    "\n",
    "Além disso, é interessante ver que nos países com menos renda (azul), tem mais homens do que mulheres escolarizados ou com educação secundária, e o contrário acontece em alguns países com renda 'upper middle' (verde).\n",
    "\n",
    "De forma geral, tem uma proporção maior de homens com educação secundária do que mulheres e também os homens estudam mais anos do que as mulheres (maioria dos pontos estão do lado direito da reta y=x)"
   ]
  },
  {
   "cell_type": "markdown",
   "metadata": {},
   "source": [
    "## PERGUNTA 3 - Homens e mulheres possuem o mesmo rendimento bruto per capita?"
   ]
  },
  {
   "cell_type": "code",
   "execution_count": null,
   "metadata": {},
   "outputs": [],
   "source": [
    "rdg_income = recent_data_gender[['Estimated gross national income per capita, female (2011 PPP $)','Estimated gross national income per capita, male (2011 PPP $)']].dropna()\n",
    "\n",
    "fig, ax1= plt.subplots(figsize=(10,5))\n",
    "matplotlib.rcParams.update({'font.size': 14})\n",
    "ax1.hist(rdg_income['Estimated gross national income per capita, male (2011 PPP $)'], color='r', alpha=0.3)\n",
    "ax1.hist(rdg_income['Estimated gross national income per capita, female (2011 PPP $)'],   color='c', alpha=0.4)\n",
    "ax1.set_title('Estimated gross national income per capita (2011 PPP $)')\n",
    "plt.legend(labels = ['Male', 'Female'], loc='upper right')\n",
    "pass"
   ]
  },
  {
   "cell_type": "markdown",
   "metadata": {},
   "source": [
    "Observamos que as mulheres têm um rendimento bruto per capita muito mais baixo do que os homens, especialmente quanto maior a renda."
   ]
  },
  {
   "cell_type": "markdown",
   "metadata": {},
   "source": [
    "## PERGUNTA 4 - Ter mais mulheres no parlamento favoriza ter um HDI maior ?"
   ]
  },
  {
   "cell_type": "code",
   "execution_count": null,
   "metadata": {},
   "outputs": [],
   "source": [
    "recent_data_expenditures_parliament = data_categorias_recente(['Composite indices', 'Gender'])\n",
    "#recent_data_expenditures_parliament.info()\n",
    "\n",
    "parliament_hdi = recent_data_expenditures_parliament[['Share of seats in parliament (% held by women)', 'Human Development Index (HDI)', 'income_group']].dropna() # Pega as colunas de interesse\n",
    "parliament_hdi.rename(columns={'Human Development Index (HDI)':'HDI'}, inplace=True) # Renomea para visualizaçao\n",
    "\n",
    "matplotlib.rcParams.update({'font.size': 15})\n",
    "parliament_hdi.plot(kind = 'scatter',x = 'Share of seats in parliament (% held by women)', y ='HDI', title = 'HDI and Gender')\n",
    "pass"
   ]
  },
  {
   "cell_type": "markdown",
   "metadata": {},
   "source": [
    "Parece que não."
   ]
  },
  {
   "cell_type": "markdown",
   "metadata": {},
   "source": [
    "## PERGUNTA 5 - Quantos países têm aumentado a porcentagem de mulheres no parlamento nos últimos anos? E como tem sido a evolução do Brasil comparada à da Islândia ?"
   ]
  },
  {
   "cell_type": "code",
   "execution_count": null,
   "metadata": {
    "scrolled": false
   },
   "outputs": [],
   "source": [
    "# Dados que queremos plotar organizados temporalmente\n",
    "data_parliament = data_tidy[['country_name','year','Share of seats in parliament (% held by women)']]\n",
    "data_parliament = data_parliament[data_parliament.year != 9999] # Ano 9999 fora\n",
    "\n",
    "# Pivotamos para ter países como colunas\n",
    "data_parliament = data_parliament.pivot_table(index=['year'],\n",
    "                                     columns = 'country_name', values = 'Share of seats in parliament (% held by women)')\n",
    "\n",
    "# Média de todas as colunas\n",
    "data_parliament_means = data_parliament.mean(axis='columns')\n",
    "\n",
    "# Plot\n",
    "data_parliament_means.plot(title = \"Evolution of world's average share of seats in parliament held by women\")\n",
    "pass"
   ]
  },
  {
   "cell_type": "markdown",
   "metadata": {},
   "source": [
    "Tem aumentado, mais ainda não chega à 50%."
   ]
  },
  {
   "cell_type": "code",
   "execution_count": null,
   "metadata": {},
   "outputs": [],
   "source": [
    "# Evoluções Brasil vs Islândia \n",
    "data_parliament_Brazil_Iceland = data_parliament[['Brazil','Iceland']]\n",
    "data_parliament_Brazil_Iceland.plot(title= \"Evolution of the % of seats in parliament\\n held by women Brazil vs Iceland\", figsize=(10,5))\n",
    "_ = plt.legend(['Brazil', 'Iceland'], title = 'Country',loc='center left', bbox_to_anchor=(1, 0.5))\n"
   ]
  },
  {
   "cell_type": "markdown",
   "metadata": {},
   "source": [
    "Parece que o Brasil tem aumentado muito lentamente."
   ]
  },
  {
   "cell_type": "markdown",
   "metadata": {},
   "source": [
    "## PERGUNTA 6 - Qual atual situação do indicador 'Gender Inequality Index (GII)' no BRICS? Quais países do BRICS estão acima da média mundial?"
   ]
  },
  {
   "cell_type": "code",
   "execution_count": null,
   "metadata": {},
   "outputs": [],
   "source": [
    "category_toPlot = 'Gender Inequality Index (GII)'\n",
    "world_GII = recent_data_gender[recent_data_gender[category_toPlot].notnull() == True] # Removendo os valores NaN\n",
    "brics_GII = world_GII[world_GII['country_name'].isin(brics)] # Filtrando pelos países do BRICS\n",
    "w_GII_mean = world_GII[category_toPlot].mean() # Média mundial de 'Gender Inequality Index (GII)'\n",
    "\n",
    "fig, ax1= plt.subplots(figsize=(10,5))\n",
    "matplotlib.rcParams.update({'font.size': 14})\n",
    "brics_GII = brics_GII.sort_values(by = category_toPlot, ascending = True) # Organizando o dataframe do maior indicador para o menor\n",
    "ax1.barh(brics_GII['country_name'], brics_GII[category_toPlot], color= 'c', alpha = 0.4) # Plotando o GII por país do BRICS\n",
    "plt.axvline(w_GII_mean, color='r', alpha = 1,linestyle = '--', linewidth = 3) # Plotando a média mundial de GII)\n",
    "ax1.set_title(category_toPlot)\n",
    "pass"
   ]
  },
  {
   "cell_type": "markdown",
   "metadata": {},
   "source": [
    "3 dos 5 paises do BRICS estao acima da média no GII."
   ]
  },
  {
   "cell_type": "markdown",
   "metadata": {},
   "source": [
    "## PERGUNTA 7 - A formação de mulheres em SME, manufacturing and construction está correlacionada com  o GII?"
   ]
  },
  {
   "cell_type": "code",
   "execution_count": null,
   "metadata": {
    "scrolled": true
   },
   "outputs": [],
   "source": [
    "first_step = data_tidy[(data_tidy.year.isin([2017,9999]))] # Unindo os dados de 2017 e de 9999\n",
    "graduation = first_step[['Female share of graduates in science, mathematics, engineering, manufacturing and construction at tertiary level (%)', 'Gender Inequality Index (GII)']].dropna()\n",
    "\n",
    "\n",
    "matplotlib.rcParams.update({'font.size': 14})\n",
    "graduation.plot(kind = 'scatter',x = 'Female share of graduates in science, mathematics, engineering, manufacturing and construction at tertiary level (%)', y ='Gender Inequality Index (GII)')\n",
    "plt.xlabel('Female share of graduates in SME, manufacturing and construction (%)')\n",
    "pass"
   ]
  },
  {
   "cell_type": "markdown",
   "metadata": {},
   "source": [
    "Não há correlação entre os dois indicadores, seguramente por esse 'female share of graduates in SME, manufacturing and construction' ser menos significativo no calculo do GII."
   ]
  },
  {
   "cell_type": "markdown",
   "metadata": {},
   "source": [
    "## PERGUNTA 8 - Como tem evoluido a 'life expectancy' das mulheres ?"
   ]
  },
  {
   "cell_type": "code",
   "execution_count": null,
   "metadata": {},
   "outputs": [],
   "source": [
    "data_female_expectancy = data_tidy[['country_name','year','Life expectancy at birth, female (years)']]\n",
    "data_male_expectancy = data_tidy[['country_name','year','Life expectancy at birth, male (years)']]\n",
    "\n",
    "# Ano 9999 fora\n",
    "data_female_expectancy = data_female_expectancy[data_female_expectancy.year != 9999]\n",
    "data_male_expectancy = data_male_expectancy[data_male_expectancy.year != 9999]\n",
    "\n",
    "# Pivots para ter os dados prontos para análise temporal\n",
    "data_female_expectancy = data_female_expectancy.pivot_table(index=['year'],\n",
    "                                     columns = 'country_name', values = 'Life expectancy at birth, female (years)')\n",
    "data_male_expectancy = data_male_expectancy.pivot_table(index=['year'],\n",
    "                                     columns = 'country_name', values = 'Life expectancy at birth, male (years)')\n",
    "\n",
    "# Médias\n",
    "female_expectancy_means = data_female_expectancy.mean(axis='columns')\n",
    "male_expectancy_means = data_male_expectancy.mean(axis='columns')\n",
    "\n",
    "\n",
    "# Plot dos gráficos normais\n",
    "female_expectancy_means.plot(title = \"Evolution of average life expectancy\", figsize = (10,5))\n",
    "male_expectancy_means.plot()\n",
    "_ = plt.legend(['Female', 'Male'], title = 'Gender',loc='center left', bbox_to_anchor=(1, 0.5))\n",
    "\n",
    "\n",
    "# Plot dos boxplots\n",
    "f, (ax1,ax2) = plt.subplots(1,2,figsize = (15,5))\n",
    "female_expectancy_every5years = data[data.indicator_name == 'Life expectancy at birth, female (years)'][['country_name',1990,1995,2000,2005,2010,2015]]\n",
    "male_expectancy_every5years = data[data.indicator_name == 'Life expectancy at birth, male (years)'][['country_name',1990,1995,2000,2005,2010,2015]]\n",
    "\n",
    "female_expectancy_every5years.plot(ax = ax1, kind='box', title = 'Female')\n",
    "male_expectancy_every5years.plot(ax = ax2,kind='box', title = 'Male')\n",
    "pass"
   ]
  },
  {
   "cell_type": "markdown",
   "metadata": {},
   "source": [
    "As diferenças diminuem para se tornarem distribuiçoes mais homogêneas, mas parece que os homens têm melhor expectativa de vida"
   ]
  },
  {
   "cell_type": "markdown",
   "metadata": {},
   "source": [
    "## PERGUNTA 9 - Como tem sido a evolução de diferença salarial entre homens e mulheres nos últimos anos ?"
   ]
  },
  {
   "cell_type": "code",
   "execution_count": null,
   "metadata": {
    "scrolled": true
   },
   "outputs": [],
   "source": [
    "data_female_income = data_tidy[['country_name','year','Estimated gross national income per capita, female (2011 PPP $)']]\n",
    "data_male_income = data_tidy[['country_name','year','Estimated gross national income per capita, male (2011 PPP $)']]\n",
    "\n",
    "# Ano 9999 fora\n",
    "data_female_income = data_female_income[data_female_income.year != 9999]\n",
    "data_male_income = data_male_income[data_male_income.year != 9999]\n",
    "\n",
    "# Pivots para ter os dados prontos para analise temporal\n",
    "data_female_income = data_female_income.pivot_table(index=['year'],\n",
    "                                     columns = 'country_name', values = 'Estimated gross national income per capita, female (2011 PPP $)')\n",
    "data_male_income = data_male_income.pivot_table(index=['year'],\n",
    "                                     columns = 'country_name', values = 'Estimated gross national income per capita, male (2011 PPP $)')\n",
    "\n",
    "# Médias\n",
    "female_income_means = data_female_income.mean(axis='columns')\n",
    "male_income_means = data_male_income.mean(axis='columns')\n",
    "\n",
    "# Plot dos graficos normais\n",
    "female_income_means.plot(title = \"Evolution of average estimated gross national income per capita\", figsize = (10,5))\n",
    "male_income_means.plot()\n",
    "_ = plt.legend(['Female', 'Male'], title = 'Gender',loc='center left', bbox_to_anchor=(1, 0.5))\n"
   ]
  },
  {
   "cell_type": "markdown",
   "metadata": {},
   "source": [
    "Observamos claramente que as mulheres seguem ganhando muito menos do que os homens em média, o que é muito alarmante. Apesar disso, as evoluções parecem bastante correlacionadas."
   ]
  },
  {
   "cell_type": "code",
   "execution_count": null,
   "metadata": {},
   "outputs": [],
   "source": [
    "# Focus na diferença entre salários de homens e mulheres\n",
    "\n",
    "# Geral\n",
    "difference = male_income_means.values - female_income_means.values\n",
    "difference_income = pd.Series(difference, index = female_income_means.index)\n",
    "\n",
    "# Brazil\n",
    "difference_Brazil = data_male_income['Brazil'].values - data_female_income['Brazil'].values\n",
    "difference_income_Brazil = pd.Series(difference_Brazil, index = female_income_means.index)\n",
    "\n",
    "# Noruega\n",
    "difference_Norway = data_male_income['Norway'].values - data_female_income['Norway'].values\n",
    "difference_income_Norway = pd.Series(difference_Norway, index = female_income_means.index)\n",
    "\n",
    "# França\n",
    "difference_France = data_male_income['France'].values - data_female_income['France'].values\n",
    "difference_income_France = pd.Series(difference_France, index = female_income_means.index)\n",
    "\n",
    "\n",
    "difference_income.plot(title = \"Evolution of average estimated gross national income difference per capita\", figsize = (10,7))\n",
    "difference_income_Brazil.plot()\n",
    "difference_income_Norway.plot()\n",
    "difference_income_France.plot()\n",
    "_ = plt.legend(['All', 'Brazil', 'Norway', 'France'], title = 'Country',loc='center left', bbox_to_anchor=(1, 0.5))\n"
   ]
  },
  {
   "cell_type": "markdown",
   "metadata": {},
   "source": [
    "A diferença salarial parece ter diminuido um pouco em média no mundo, mas parece ter estagnado desde 2010.\n",
    "\n",
    "No Brasil, os salários são menores, mas as diferenças salariais também. Porém, tem tido um crescimento dessa diferença desde 2015!\n",
    "\n",
    "Surpreendentemente, em países como a Noruega e a França, onde os salários são maiores, a diferença salarial também é."
   ]
  },
  {
   "cell_type": "markdown",
   "metadata": {},
   "source": [
    "## PERGUNTA 10 - Existe correlação entre a educação em geral de um país e a igualdade de gênero?"
   ]
  },
  {
   "cell_type": "code",
   "execution_count": null,
   "metadata": {},
   "outputs": [],
   "source": [
    "compare(data_tidy, 'Education index', 'Gender Inequality Index (GII)', 'Gender Inequality and Education', 'Gender Inequality Index (GII)')\n",
    "pass"
   ]
  },
  {
   "cell_type": "markdown",
   "metadata": {},
   "source": [
    "Percebemos claramente que quando melhor a educação de um país, menor é a desigualdade de gênero de lá."
   ]
  },
  {
   "cell_type": "markdown",
   "metadata": {},
   "source": [
    "## PERGUNTA 11 - Qual é a evolução da quantidade de mulheres na política nos paises que compõe o BRICS? Como está o Brasil em relação aos outros?"
   ]
  },
  {
   "cell_type": "code",
   "execution_count": null,
   "metadata": {},
   "outputs": [],
   "source": [
    "def bricsTimeEvolution (ind):\n",
    "    brazil = timeEvolutionPerCountry(indicator = ind, country = 'Brazil')\n",
    "    russia = timeEvolutionPerCountry(indicator = ind, country = 'Russian Federation')\n",
    "    india = timeEvolutionPerCountry(indicator = ind, country = 'India')\n",
    "    china = timeEvolutionPerCountry(indicator = ind, country = 'China')\n",
    "    southAfrica = timeEvolutionPerCountry(indicator = ind, country = 'South Africa')\n",
    "    pd.Series(brazil['value'].tolist(), brazil['year'].tolist()).plot(figsize = (15,10))\n",
    "    pd.Series(russia['value'].tolist(), russia['year'].tolist()).plot()\n",
    "    pd.Series(india['value'].tolist(), india['year'].tolist()).plot()\n",
    "    pd.Series(china['value'].tolist(), china['year'].tolist()).plot()\n",
    "    pd.Series(southAfrica['value'].tolist(), southAfrica['year'].tolist()).plot()\n",
    "    plt.legend(['Brazil','Russia','India','China','South Africa'], title = 'País',loc='center left', bbox_to_anchor=(1, 0.5))\n",
    "    return"
   ]
  },
  {
   "cell_type": "code",
   "execution_count": null,
   "metadata": {},
   "outputs": [],
   "source": [
    "bricsTimeEvolution('Share of seats in parliament (% held by women)')\n",
    "plt.title('Evolução de mulheres no parlamento no BRICS')\n",
    "plt.xlabel('Ano')\n",
    "plt.ylabel('Fatia de mulheres parlamentares')\n",
    "pass"
   ]
  },
  {
   "cell_type": "markdown",
   "metadata": {},
   "source": [
    "Podemos claramente perceber que o Brasil tem o pior desemprenho no sentido de incluir mais mulheres no parlamento."
   ]
  },
  {
   "cell_type": "markdown",
   "metadata": {},
   "source": [
    "## PERGUNTA 12 - Qual é a evolução da educação de mulheres nos países que compõe o BRICS? Como está o Brasil em relação aos outros?"
   ]
  },
  {
   "cell_type": "code",
   "execution_count": null,
   "metadata": {},
   "outputs": [],
   "source": [
    "bricsTimeEvolution('Mean years of schooling, female (years)')\n",
    "plt.title(\"Evolução da educação de mulheres no BRICS\")\n",
    "plt.xlabel('Ano')\n",
    "plt.ylabel('Média de anos de escolaridade (Mulheres)')\n",
    "pass"
   ]
  },
  {
   "cell_type": "markdown",
   "metadata": {},
   "source": [
    "O gráfico mostra que o Brasil tem um histórico de baixa educação de mulheres mesmo se analisado apenas dentro do BRICS. Se igualando a China e superando apenas a Índia, que é o país com pior escolaridade de mulheres."
   ]
  },
  {
   "cell_type": "markdown",
   "metadata": {},
   "source": [
    "## PERGUNTA 13 - A violência contra a mulher está correlacionada com a desigualdade de gênero ou com o índice de desenvolvimento humano?"
   ]
  },
  {
   "cell_type": "code",
   "execution_count": null,
   "metadata": {
    "scrolled": true
   },
   "outputs": [],
   "source": [
    "x1 = 'Violence against women ever experienced, intimate partner (% of female population ages 15 and older)'\n",
    "y1 = 'Gender Inequality Index (GII)'\n",
    "\n",
    "violence_GII = first_step[[x1, y1]].dropna()\n",
    "\n",
    "matplotlib.rcParams.update({'font.size': 14})\n",
    "violence_GII.plot(kind = 'scatter',x = x1, y = y1)\n",
    "plt.xlabel('Violence against women ever experienced, intimate partner (%)')\n",
    "pass"
   ]
  },
  {
   "cell_type": "markdown",
   "metadata": {},
   "source": [
    "Não há correlação entre as duas variáveis."
   ]
  },
  {
   "cell_type": "markdown",
   "metadata": {},
   "source": [
    "## PERGUNTA 14 - Como está a evolução da média de anos de estudos das mulheres?"
   ]
  },
  {
   "cell_type": "code",
   "execution_count": null,
   "metadata": {},
   "outputs": [],
   "source": [
    "data_female_schooling = data_tidy[['country_name','year','Mean years of schooling, female (years)']]\n",
    "data_male_schooling = data_tidy[['country_name','year','Mean years of schooling, male (years)']]\n",
    "\n",
    "# Ano 9999 fora\n",
    "data_female_schooling = data_female_schooling[data_female_schooling.year != 9999]\n",
    "data_male_schooling = data_male_schooling[data_male_schooling.year != 9999]\n",
    "\n",
    "# Pivots para ter os dados prontos para análise temporal\n",
    "data_female_schooling = data_female_schooling.pivot_table(index=['year'],\n",
    "                                     columns = 'country_name', values = 'Mean years of schooling, female (years)')\n",
    "data_male_schooling = data_male_schooling.pivot_table(index=['year'],\n",
    "                                     columns = 'country_name', values = 'Mean years of schooling, male (years)')\n",
    "\n",
    "# Médias\n",
    "female_schooling_means = data_female_schooling.mean(axis='columns')\n",
    "male_schooling_means = data_male_schooling.mean(axis='columns')\n",
    "\n",
    "\n",
    "# Plot dos gráficos normais\n",
    "female_schooling_means.plot(title = \"Evolution of the average years of schooling\", figsize = (10,5))\n",
    "male_schooling_means.plot()\n",
    "_ = plt.legend(['Female', 'Male'], title = 'Gender',loc='center left', bbox_to_anchor=(1, 0.5))\n",
    "\n",
    "\n",
    "# Plot dos boxplots\n",
    "f, (ax1,ax2) = plt.subplots(1,2,figsize = (15,5))\n",
    "female_schooling_every5years = data[data.indicator_name == 'Mean years of schooling, female (years)'][['country_name',1990,1995,2000,2005,2010,2015]]\n",
    "male_schooling_every5years = data[data.indicator_name == 'Mean years of schooling, male (years)'][['country_name',1990,1995,2000,2005,2010,2015]]\n",
    "\n",
    "female_schooling_every5years.plot(ax = ax1, kind='box', title = 'Female', ylim = (0,15))\n",
    "male_schooling_every5years.plot(ax = ax2,kind='box', title = 'Male', ylim = (0,15))\n",
    "pass"
   ]
  },
  {
   "cell_type": "markdown",
   "metadata": {},
   "source": [
    "Felizmente, homens e mulheres têm aumentado o número de anos na escola, mas infelizmente as diferenças seguem sendo grandes."
   ]
  },
  {
   "cell_type": "markdown",
   "metadata": {},
   "source": [
    "## PERGUNTA 15 - Há correlação entre a desiguldade de gênero e o índice de desenvolvimento humano?"
   ]
  },
  {
   "cell_type": "code",
   "execution_count": null,
   "metadata": {
    "scrolled": true
   },
   "outputs": [],
   "source": [
    "x1 = 'Gender Inequality Index (GII)'\n",
    "y1 = 'Human Development Index (HDI)'\n",
    "GII_HDI = first_step[[x1,y1]]\n",
    "\n",
    "matplotlib.rcParams.update({'font.size': 14})\n",
    "GII_HDI.plot(kind = 'scatter',x = x1, y = y1, figsize = (10,5))\n",
    "pass"
   ]
  },
  {
   "cell_type": "markdown",
   "metadata": {},
   "source": [
    "Podemos observar que quanto menor o índice de desenvolvimento humano, pior o índice de desigualdade de gênero."
   ]
  },
  {
   "cell_type": "markdown",
   "metadata": {},
   "source": [
    "# Considerações finais"
   ]
  },
  {
   "cell_type": "markdown",
   "metadata": {},
   "source": [
    "Através deste trabalho, podemos observar que a questão de gênero ainda não alcançou a igualdade, pelo menos por enquanto.\n",
    "\n",
    "Seja na educação, saúde, política ou desenvolvimento humano e financeiro, os homens têm melhores desempenhos que as mulheres, o que é alarmante.\n",
    "\n",
    "Além disso, como era esperado, quanto pior o nível de desenvolvimento humano, pior a situação das mulheres.\n",
    "\n",
    "Todos os países do mundo têm que se conscienciar ainda mais e tentar melhorar essa questão, pois mais de 50% da populaçao mundial é discriminada pelo sexo."
   ]
  },
  {
   "cell_type": "markdown",
   "metadata": {},
   "source": [
    "### Comentários"
   ]
  },
  {
   "cell_type": "markdown",
   "metadata": {},
   "source": [
    "Porém,\n",
    "\n",
    "* Temos que ser cientes que temos poucos dados, provenientes de uma fonte somente. Além disso, nem todos os paises têm respondido nos mesmos anos ou aos mesmos indicadores e alguns dados têm sido agrupados pela ONU (coluna 9999), o que cria uma irregularidade e nos faz desconfiar nos resultados.\n",
    "\n",
    "* Também, temos que ter consciência que alguns dados são difíceis de seren medidos (por exemplo o de número de violências), pois nem sempre as mulheres vão relatar esses fatos ou os países vão usar dados reais. Então, este trabalho é uma estimativa da situação atual."
   ]
  }
 ],
 "metadata": {
  "kernelspec": {
   "display_name": "Python 3",
   "language": "python",
   "name": "python3"
  },
  "language_info": {
   "codemirror_mode": {
    "name": "ipython",
    "version": 3
   },
   "file_extension": ".py",
   "mimetype": "text/x-python",
   "name": "python",
   "nbconvert_exporter": "python",
   "pygments_lexer": "ipython3",
   "version": "3.7.1"
  }
 },
 "nbformat": 4,
 "nbformat_minor": 2
}
